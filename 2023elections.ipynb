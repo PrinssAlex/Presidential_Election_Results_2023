{
 "cells": [
  {
   "cell_type": "code",
   "execution_count": 3,
   "id": "2fbc2d77",
   "metadata": {},
   "outputs": [],
   "source": [
    "import numpy as np\n",
    "import pandas as pd\n",
    "import tweepy\n",
    "import matplotlib.pyplot as plt\n",
    "%matplotlib inline\n",
    "import seaborn as sb\n",
    "import re"
   ]
  },
  {
   "cell_type": "code",
   "execution_count": 4,
   "id": "78ba4d07",
   "metadata": {},
   "outputs": [],
   "source": [
    "from nltk.corpus import stopwords # to get stopwords from NLTK library\n",
    "from nltk.tokenize import word_tokenize # to create word tokens\n",
    "from nltk.stem import WordNetLemmatizer # to reduce words to orginal form\n",
    "from nltk.corpus import words # Get all words in english language\n",
    "\n",
    "import textblob\n",
    "from textblob import TextBlob\n",
    "\n",
    "from wordcloud import WordCloud\n",
    "from emot.emo_unicode import UNICODE_EMOJI # For emojis\n",
    "\n",
    "import warnings"
   ]
  },
  {
   "cell_type": "code",
   "execution_count": 8,
   "id": "8a7b576d",
   "metadata": {},
   "outputs": [],
   "source": [
    "# Access keys and tokens from Twitter Developer Account\n",
    "# These are hidden to comply with Twitter's API terms and conditions\n",
    "# You'll need to get a Twitter developer Account to get your own keys to use for this part.\n",
    "consumer_key = '7xXAibveV2SfjbPFoNHH74vUq'\n",
    "consumer_secret = 'Zdrz6v2TwxvqMtxEzLrlM27ciu50m74dQAB1Z6poprC4xxwABO'\n",
    "access_token = '1620005492-qCKTglyB3brsTb5cFDCaLZDyOMU0HfIGDNJAoFJ'\n",
    "access_secret = '9FrscEyRCoUIAwqmXvJt4jFUtGYqPNSILgSmObdtUbpLa'"
   ]
  },
  {
   "cell_type": "code",
   "execution_count": 10,
   "id": "50b76060",
   "metadata": {},
   "outputs": [],
   "source": [
    "auth = tweepy.OAuthHandler(consumer_key, consumer_secret) #Pass in Consumer key and secret for authentication by API\n",
    "auth.set_access_token (access_token, access_secret) # Pass in Access token and secret for authentication by API\n",
    "api = tweepy.API(auth, wait_on_rate_limit = True) #sleeps when API limit is reached"
   ]
  },
  {
   "cell_type": "markdown",
   "id": "908d9950",
   "metadata": {},
   "source": [
    "# GATHERING DATA"
   ]
  },
  {
   "cell_type": "markdown",
   "id": "a44e3391",
   "metadata": {},
   "source": [
    "### ATIKU ABUBAKAR"
   ]
  },
  {
   "cell_type": "code",
   "execution_count": 53,
   "id": "5acb3c48",
   "metadata": {},
   "outputs": [],
   "source": [
    "#create keywords to search for , filter links, retweets, replies\n",
    "search_words = \"#okowa OR #atikuokowa2023 OR #atiku\"\n",
    "search_query = search_words + \"-filter:retweets AND -filter:replies\""
   ]
  },
  {
   "cell_type": "code",
   "execution_count": 54,
   "id": "5ee776cb",
   "metadata": {},
   "outputs": [],
   "source": [
    "# specifying limit of 1,000,000 tweets\n",
    "# I prefer to gather tweets in batches then append, due to twitter's tweet request limitation\n",
    "limit=1000000\n",
    "\n",
    "# using tweepy to search for tweets with the key words in English \n",
    "tweets = tweepy.Cursor(api.search_tweets, q=search_query, count=100, lang=\"en\", tweet_mode='extended').items(limit)\n",
    "\n",
    "# specifying column headers of each tweet attribute\n",
    "columns=['id', 'username', 'time_of_tweet', 'tweet', 'location', 'retweets', 'likes', 'followers', 'following', 'verified',\n",
    "         'tweet_source']"
   ]
  },
  {
   "cell_type": "code",
   "execution_count": 55,
   "id": "5f7e79a1",
   "metadata": {},
   "outputs": [],
   "source": [
    "# appending each tweet attribute to the list data\n",
    "data= []\n",
    "for tweet in tweets:\n",
    "    data.append([tweet.id,tweet.user.screen_name,tweet.created_at,tweet.full_text,tweet.user.location,tweet.retweet_count,tweet.favorite_count,tweet.user.followers_count,tweet.user.friends_count,tweet.user.verified,tweet.source])"
   ]
  },
  {
   "cell_type": "code",
   "execution_count": 56,
   "id": "2b9d50dd",
   "metadata": {},
   "outputs": [
    {
     "data": {
      "text/plain": [
       "(1389, 11)"
      ]
     },
     "execution_count": 56,
     "metadata": {},
     "output_type": "execute_result"
    }
   ],
   "source": [
    "# creating a dataframe\n",
    "df_aa = pd.DataFrame(data, columns=columns)\n",
    "\n",
    "# cheking the number of rows and columns\n",
    "df_aa.shape"
   ]
  },
  {
   "cell_type": "code",
   "execution_count": 57,
   "id": "c4e99589",
   "metadata": {
    "collapsed": true
   },
   "outputs": [
    {
     "data": {
      "text/html": [
       "<div>\n",
       "<style scoped>\n",
       "    .dataframe tbody tr th:only-of-type {\n",
       "        vertical-align: middle;\n",
       "    }\n",
       "\n",
       "    .dataframe tbody tr th {\n",
       "        vertical-align: top;\n",
       "    }\n",
       "\n",
       "    .dataframe thead th {\n",
       "        text-align: right;\n",
       "    }\n",
       "</style>\n",
       "<table border=\"1\" class=\"dataframe\">\n",
       "  <thead>\n",
       "    <tr style=\"text-align: right;\">\n",
       "      <th></th>\n",
       "      <th>id</th>\n",
       "      <th>username</th>\n",
       "      <th>time_of_tweet</th>\n",
       "      <th>tweet</th>\n",
       "      <th>location</th>\n",
       "      <th>retweets</th>\n",
       "      <th>likes</th>\n",
       "      <th>followers</th>\n",
       "      <th>following</th>\n",
       "      <th>verified</th>\n",
       "      <th>tweet_source</th>\n",
       "    </tr>\n",
       "  </thead>\n",
       "  <tbody>\n",
       "    <tr>\n",
       "      <th>0</th>\n",
       "      <td>1585929663901478917</td>\n",
       "      <td>KingsleyNjomi1</td>\n",
       "      <td>2022-10-28 09:41:11+00:00</td>\n",
       "      <td>This man @renoomokri are you a politician? Of ...</td>\n",
       "      <td></td>\n",
       "      <td>0</td>\n",
       "      <td>0</td>\n",
       "      <td>55</td>\n",
       "      <td>255</td>\n",
       "      <td>False</td>\n",
       "      <td>Twitter for Android</td>\n",
       "    </tr>\n",
       "    <tr>\n",
       "      <th>1</th>\n",
       "      <td>1585929369843036160</td>\n",
       "      <td>OndoPDPVanguard</td>\n",
       "      <td>2022-10-28 09:40:01+00:00</td>\n",
       "      <td>Highlights of Ondo PDP Presidential Campaign C...</td>\n",
       "      <td>Ondo Nigeria</td>\n",
       "      <td>0</td>\n",
       "      <td>0</td>\n",
       "      <td>326</td>\n",
       "      <td>332</td>\n",
       "      <td>False</td>\n",
       "      <td>Twitter for iPhone</td>\n",
       "    </tr>\n",
       "    <tr>\n",
       "      <th>2</th>\n",
       "      <td>1585928744769814529</td>\n",
       "      <td>Getit4me44</td>\n",
       "      <td>2022-10-28 09:37:32+00:00</td>\n",
       "      <td>Elon Musk Officially takeover Twitter https://...</td>\n",
       "      <td>Nigeria</td>\n",
       "      <td>2</td>\n",
       "      <td>2</td>\n",
       "      <td>12</td>\n",
       "      <td>114</td>\n",
       "      <td>False</td>\n",
       "      <td>Twitter for Android</td>\n",
       "    </tr>\n",
       "    <tr>\n",
       "      <th>3</th>\n",
       "      <td>1585928287481495553</td>\n",
       "      <td>theallnigerian</td>\n",
       "      <td>2022-10-28 09:35:43+00:00</td>\n",
       "      <td>Kindly help in filling this survey. Thank you ...</td>\n",
       "      <td>lagos, nigeria</td>\n",
       "      <td>1</td>\n",
       "      <td>1</td>\n",
       "      <td>1255</td>\n",
       "      <td>1284</td>\n",
       "      <td>False</td>\n",
       "      <td>Twitter for iPhone</td>\n",
       "    </tr>\n",
       "    <tr>\n",
       "      <th>4</th>\n",
       "      <td>1585924498527727616</td>\n",
       "      <td>Zulzurander</td>\n",
       "      <td>2022-10-28 09:20:40+00:00</td>\n",
       "      <td>Also Aminu waziri is what @Benzema is to footb...</td>\n",
       "      <td>9th Realm</td>\n",
       "      <td>1</td>\n",
       "      <td>0</td>\n",
       "      <td>3789</td>\n",
       "      <td>3239</td>\n",
       "      <td>False</td>\n",
       "      <td>Twitter for Android</td>\n",
       "    </tr>\n",
       "  </tbody>\n",
       "</table>\n",
       "</div>"
      ],
      "text/plain": [
       "                    id         username             time_of_tweet  \\\n",
       "0  1585929663901478917   KingsleyNjomi1 2022-10-28 09:41:11+00:00   \n",
       "1  1585929369843036160  OndoPDPVanguard 2022-10-28 09:40:01+00:00   \n",
       "2  1585928744769814529       Getit4me44 2022-10-28 09:37:32+00:00   \n",
       "3  1585928287481495553   theallnigerian 2022-10-28 09:35:43+00:00   \n",
       "4  1585924498527727616      Zulzurander 2022-10-28 09:20:40+00:00   \n",
       "\n",
       "                                               tweet        location  \\\n",
       "0  This man @renoomokri are you a politician? Of ...                   \n",
       "1  Highlights of Ondo PDP Presidential Campaign C...    Ondo Nigeria   \n",
       "2  Elon Musk Officially takeover Twitter https://...         Nigeria   \n",
       "3  Kindly help in filling this survey. Thank you ...  lagos, nigeria   \n",
       "4  Also Aminu waziri is what @Benzema is to footb...       9th Realm   \n",
       "\n",
       "   retweets  likes  followers  following  verified         tweet_source  \n",
       "0         0      0         55        255     False  Twitter for Android  \n",
       "1         0      0        326        332     False   Twitter for iPhone  \n",
       "2         2      2         12        114     False  Twitter for Android  \n",
       "3         1      1       1255       1284     False   Twitter for iPhone  \n",
       "4         1      0       3789       3239     False  Twitter for Android  "
      ]
     },
     "execution_count": 57,
     "metadata": {},
     "output_type": "execute_result"
    }
   ],
   "source": [
    "df_aa.head()"
   ]
  },
  {
   "cell_type": "code",
   "execution_count": 58,
   "id": "53801efd",
   "metadata": {
    "collapsed": true
   },
   "outputs": [
    {
     "data": {
      "text/html": [
       "<div>\n",
       "<style scoped>\n",
       "    .dataframe tbody tr th:only-of-type {\n",
       "        vertical-align: middle;\n",
       "    }\n",
       "\n",
       "    .dataframe tbody tr th {\n",
       "        vertical-align: top;\n",
       "    }\n",
       "\n",
       "    .dataframe thead th {\n",
       "        text-align: right;\n",
       "    }\n",
       "</style>\n",
       "<table border=\"1\" class=\"dataframe\">\n",
       "  <thead>\n",
       "    <tr style=\"text-align: right;\">\n",
       "      <th></th>\n",
       "      <th>id</th>\n",
       "      <th>username</th>\n",
       "      <th>time_of_tweet</th>\n",
       "      <th>tweet</th>\n",
       "      <th>location</th>\n",
       "      <th>retweets</th>\n",
       "      <th>likes</th>\n",
       "      <th>followers</th>\n",
       "      <th>following</th>\n",
       "      <th>verified</th>\n",
       "      <th>tweet_source</th>\n",
       "    </tr>\n",
       "  </thead>\n",
       "  <tbody>\n",
       "    <tr>\n",
       "      <th>1384</th>\n",
       "      <td>1582669654475931648</td>\n",
       "      <td>AyotundeJames3</td>\n",
       "      <td>2022-10-19 09:47:04+00:00</td>\n",
       "      <td>Atiku's UNITY-SEED agenda is the best, most co...</td>\n",
       "      <td></td>\n",
       "      <td>3</td>\n",
       "      <td>8</td>\n",
       "      <td>101</td>\n",
       "      <td>216</td>\n",
       "      <td>False</td>\n",
       "      <td>Twitter for Android</td>\n",
       "    </tr>\n",
       "    <tr>\n",
       "      <th>1385</th>\n",
       "      <td>1582669474410688515</td>\n",
       "      <td>AbdulfataiHuss2</td>\n",
       "      <td>2022-10-19 09:46:21+00:00</td>\n",
       "      <td>I am so glad Nigeria will be great again.....A...</td>\n",
       "      <td>Abuja</td>\n",
       "      <td>0</td>\n",
       "      <td>0</td>\n",
       "      <td>82</td>\n",
       "      <td>156</td>\n",
       "      <td>False</td>\n",
       "      <td>Twitter Web App</td>\n",
       "    </tr>\n",
       "    <tr>\n",
       "      <th>1386</th>\n",
       "      <td>1582668563315589121</td>\n",
       "      <td>Scentfrankie</td>\n",
       "      <td>2022-10-19 09:42:44+00:00</td>\n",
       "      <td>We are watching. So very easy to say, for some...</td>\n",
       "      <td></td>\n",
       "      <td>1</td>\n",
       "      <td>1</td>\n",
       "      <td>131</td>\n",
       "      <td>113</td>\n",
       "      <td>False</td>\n",
       "      <td>Twitter for Android</td>\n",
       "    </tr>\n",
       "    <tr>\n",
       "      <th>1387</th>\n",
       "      <td>1582667738551816193</td>\n",
       "      <td>DebbieDebbie174</td>\n",
       "      <td>2022-10-19 09:39:28+00:00</td>\n",
       "      <td>National Unity can be achieved if every sectio...</td>\n",
       "      <td></td>\n",
       "      <td>10</td>\n",
       "      <td>22</td>\n",
       "      <td>154</td>\n",
       "      <td>297</td>\n",
       "      <td>False</td>\n",
       "      <td>Twitter for Android</td>\n",
       "    </tr>\n",
       "    <tr>\n",
       "      <th>1388</th>\n",
       "      <td>1582667403284316161</td>\n",
       "      <td>Scentfrankie</td>\n",
       "      <td>2022-10-19 09:38:08+00:00</td>\n",
       "      <td>🤣🤣🤣 ... I can't stop laughing\\n#NigeriaGetYour...</td>\n",
       "      <td></td>\n",
       "      <td>1</td>\n",
       "      <td>1</td>\n",
       "      <td>131</td>\n",
       "      <td>113</td>\n",
       "      <td>False</td>\n",
       "      <td>Twitter for Android</td>\n",
       "    </tr>\n",
       "  </tbody>\n",
       "</table>\n",
       "</div>"
      ],
      "text/plain": [
       "                       id         username             time_of_tweet  \\\n",
       "1384  1582669654475931648   AyotundeJames3 2022-10-19 09:47:04+00:00   \n",
       "1385  1582669474410688515  AbdulfataiHuss2 2022-10-19 09:46:21+00:00   \n",
       "1386  1582668563315589121     Scentfrankie 2022-10-19 09:42:44+00:00   \n",
       "1387  1582667738551816193  DebbieDebbie174 2022-10-19 09:39:28+00:00   \n",
       "1388  1582667403284316161     Scentfrankie 2022-10-19 09:38:08+00:00   \n",
       "\n",
       "                                                  tweet location  retweets  \\\n",
       "1384  Atiku's UNITY-SEED agenda is the best, most co...                  3   \n",
       "1385  I am so glad Nigeria will be great again.....A...    Abuja         0   \n",
       "1386  We are watching. So very easy to say, for some...                  1   \n",
       "1387  National Unity can be achieved if every sectio...                 10   \n",
       "1388  🤣🤣🤣 ... I can't stop laughing\\n#NigeriaGetYour...                  1   \n",
       "\n",
       "      likes  followers  following  verified         tweet_source  \n",
       "1384      8        101        216     False  Twitter for Android  \n",
       "1385      0         82        156     False      Twitter Web App  \n",
       "1386      1        131        113     False  Twitter for Android  \n",
       "1387     22        154        297     False  Twitter for Android  \n",
       "1388      1        131        113     False  Twitter for Android  "
      ]
     },
     "execution_count": 58,
     "metadata": {},
     "output_type": "execute_result"
    }
   ],
   "source": [
    "df_aa.tail()"
   ]
  },
  {
   "cell_type": "code",
   "execution_count": 63,
   "id": "6829ad4b",
   "metadata": {},
   "outputs": [],
   "source": [
    "# saving dataframe to a csv file\n",
    "df_aa.to_csv('atiku19Oct-28Oct(09_38_08am_to_09_41_11am).csv')"
   ]
  },
  {
   "cell_type": "markdown",
   "id": "caa3769d",
   "metadata": {},
   "source": [
    "### Bola Ahmed Tinubu"
   ]
  },
  {
   "cell_type": "code",
   "execution_count": null,
   "id": "ba84ed4f",
   "metadata": {},
   "outputs": [],
   "source": [
    "#create keywords to search for , filter links, retweets, replies\n",
    "search_words = \"#bat2023 OR #bolaahmedtinubu OR #tinubu OR #emilokan\"\n",
    "search_query = search_words + \"-filter:retweets AND -filter:replies\""
   ]
  },
  {
   "cell_type": "code",
   "execution_count": null,
   "id": "33adb899",
   "metadata": {},
   "outputs": [],
   "source": [
    "# specifying limit of 1,000,000 tweets\n",
    "# I prefer to gather tweets in batches then append, due to twitter's tweet request limitation\n",
    "limit=1000000\n",
    "\n",
    "# using tweepy to search for tweets with the key words in English \n",
    "tweets = tweepy.Cursor(api.search_tweets, q=search_query, count=100, lang=\"en\", tweet_mode='extended').items(limit)\n",
    "\n",
    "# specifying column headers of each tweet attribute\n",
    "columns=['id', 'username', 'time_of_tweet', 'tweet', 'location', 'retweets', 'likes', 'followers', 'following', 'verified',\n",
    "         'tweet_source']"
   ]
  },
  {
   "cell_type": "code",
   "execution_count": null,
   "id": "72fb1014",
   "metadata": {},
   "outputs": [],
   "source": [
    "# appending each tweet attribute to the list data\n",
    "data= []\n",
    "for tweet in tweets:\n",
    "    data.append([tweet.id,tweet.user.screen_name,tweet.created_at,tweet.full_text,tweet.user.location,tweet.retweet_count,tweet.favorite_count,tweet.user.followers_count,tweet.user.friends_count,tweet.user.verified,tweet.source])"
   ]
  },
  {
   "cell_type": "code",
   "execution_count": null,
   "id": "2f01ad34",
   "metadata": {},
   "outputs": [],
   "source": [
    "# creating a dataframe\n",
    "df_bat = pd.DataFrame(data, columns=columns)\n",
    "\n",
    "# cheking the number of rows and columns\n",
    "df_bat.shape"
   ]
  },
  {
   "cell_type": "code",
   "execution_count": null,
   "id": "68bfe329",
   "metadata": {},
   "outputs": [],
   "source": [
    "df_bat.head()"
   ]
  },
  {
   "cell_type": "code",
   "execution_count": null,
   "id": "5695660f",
   "metadata": {},
   "outputs": [],
   "source": [
    "df_bat.tail()"
   ]
  },
  {
   "cell_type": "code",
   "execution_count": null,
   "id": "fa2be7c5",
   "metadata": {},
   "outputs": [],
   "source": [
    "# saving dataframe to a csv file\n",
    "df_bat.to_csv('tinubu19Oct-28Oct(09_42_11am_to_09_37_32am).csv')"
   ]
  },
  {
   "cell_type": "markdown",
   "id": "7acb3515",
   "metadata": {},
   "source": [
    "### Peter Obi"
   ]
  },
  {
   "cell_type": "code",
   "execution_count": null,
   "id": "5a371559",
   "metadata": {},
   "outputs": [],
   "source": [
    "#create keywords to search for , filter links, retweets, replies\n",
    "search_words = \"#obidients OR #obidientlyyusuful OR obidatti2023 OR #obidient\"\n",
    "search_query = search_words + \"-filter:retweets AND -filter:replies\""
   ]
  },
  {
   "cell_type": "code",
   "execution_count": null,
   "id": "395c0e33",
   "metadata": {},
   "outputs": [],
   "source": [
    "# specifying limit of 1,000,000 tweets\n",
    "# I prefer to gather tweets in batches then append, due to twitter's tweet request limitation\n",
    "limit=1000000\n",
    "\n",
    "# using tweepy to search for tweets with the key words in English \n",
    "tweets = tweepy.Cursor(api.search_tweets, q=search_query, count=100, lang=\"en\", tweet_mode='extended').items(limit)\n",
    "\n",
    "# specifying column headers of each tweet attribute\n",
    "columns=['id', 'username', 'time_of_tweet', 'tweet', 'location', 'retweets', 'likes', 'followers', 'following', 'verified',\n",
    "         'tweet_source']"
   ]
  },
  {
   "cell_type": "code",
   "execution_count": null,
   "id": "158b3b64",
   "metadata": {},
   "outputs": [],
   "source": [
    "# appending each tweet attribute to the list data\n",
    "data= []\n",
    "for tweet in tweets:\n",
    "    data.append([tweet.id,tweet.user.screen_name,tweet.created_at,tweet.full_text,tweet.user.location,tweet.retweet_count,tweet.favorite_count,tweet.user.followers_count,tweet.user.friends_count,tweet.user.verified,tweet.source])"
   ]
  },
  {
   "cell_type": "code",
   "execution_count": null,
   "id": "89b7ced8",
   "metadata": {},
   "outputs": [],
   "source": [
    "# creating a dataframe\n",
    "df_obi = pd.DataFrame(data, columns=columns)\n",
    "\n",
    "# cheking the number of rows and columns\n",
    "df_obi.shape"
   ]
  },
  {
   "cell_type": "code",
   "execution_count": null,
   "id": "996c566c",
   "metadata": {},
   "outputs": [],
   "source": [
    "df_obi.head()"
   ]
  },
  {
   "cell_type": "code",
   "execution_count": null,
   "id": "1aed7ff3",
   "metadata": {},
   "outputs": [],
   "source": [
    "df_obi.tail()"
   ]
  },
  {
   "cell_type": "code",
   "execution_count": null,
   "id": "5333d675",
   "metadata": {},
   "outputs": [],
   "source": [
    "# saving dataframe to a csv file\n",
    "df_obi.to_csv('peterobi19Oct-28Oct(09_30_46am_to_09_33_38am).csv')"
   ]
  },
  {
   "cell_type": "markdown",
   "id": "17ef6b62",
   "metadata": {},
   "source": [
    "## DATA CLEANING"
   ]
  },
  {
   "cell_type": "code",
   "execution_count": 61,
   "id": "4df20d3f",
   "metadata": {
    "collapsed": true
   },
   "outputs": [
    {
     "name": "stdout",
     "output_type": "stream",
     "text": [
      "<class 'pandas.core.frame.DataFrame'>\n",
      "RangeIndex: 1389 entries, 0 to 1388\n",
      "Data columns (total 11 columns):\n",
      " #   Column         Non-Null Count  Dtype              \n",
      "---  ------         --------------  -----              \n",
      " 0   id             1389 non-null   int64              \n",
      " 1   username       1389 non-null   object             \n",
      " 2   time_of_tweet  1389 non-null   datetime64[ns, UTC]\n",
      " 3   tweet          1389 non-null   object             \n",
      " 4   location       1389 non-null   object             \n",
      " 5   retweets       1389 non-null   int64              \n",
      " 6   likes          1389 non-null   int64              \n",
      " 7   followers      1389 non-null   int64              \n",
      " 8   following      1389 non-null   int64              \n",
      " 9   verified       1389 non-null   bool               \n",
      " 10  tweet_source   1389 non-null   object             \n",
      "dtypes: bool(1), datetime64[ns, UTC](1), int64(5), object(4)\n",
      "memory usage: 110.0+ KB\n"
     ]
    }
   ],
   "source": [
    "df_aa.info()"
   ]
  },
  {
   "cell_type": "code",
   "execution_count": 62,
   "id": "a331ec04",
   "metadata": {
    "collapsed": true
   },
   "outputs": [
    {
     "name": "stdout",
     "output_type": "stream",
     "text": [
      "<class 'pandas.core.frame.DataFrame'>\n",
      "RangeIndex: 1657 entries, 0 to 1656\n",
      "Data columns (total 11 columns):\n",
      " #   Column         Non-Null Count  Dtype              \n",
      "---  ------         --------------  -----              \n",
      " 0   id             1657 non-null   int64              \n",
      " 1   username       1657 non-null   object             \n",
      " 2   time_of_tweet  1657 non-null   datetime64[ns, UTC]\n",
      " 3   tweet          1657 non-null   object             \n",
      " 4   location       1657 non-null   object             \n",
      " 5   retweets       1657 non-null   int64              \n",
      " 6   likes          1657 non-null   int64              \n",
      " 7   followers      1657 non-null   int64              \n",
      " 8   following      1657 non-null   int64              \n",
      " 9   verified       1657 non-null   bool               \n",
      " 10  tweet_source   1657 non-null   object             \n",
      "dtypes: bool(1), datetime64[ns, UTC](1), int64(5), object(4)\n",
      "memory usage: 131.2+ KB\n"
     ]
    }
   ],
   "source": [
    "df_bat.info()"
   ]
  },
  {
   "cell_type": "code",
   "execution_count": 60,
   "id": "9c866cc3",
   "metadata": {
    "collapsed": true
   },
   "outputs": [
    {
     "name": "stdout",
     "output_type": "stream",
     "text": [
      "<class 'pandas.core.frame.DataFrame'>\n",
      "RangeIndex: 4731 entries, 0 to 4730\n",
      "Data columns (total 11 columns):\n",
      " #   Column         Non-Null Count  Dtype              \n",
      "---  ------         --------------  -----              \n",
      " 0   id             4731 non-null   int64              \n",
      " 1   username       4731 non-null   object             \n",
      " 2   time_of_tweet  4731 non-null   datetime64[ns, UTC]\n",
      " 3   tweet          4731 non-null   object             \n",
      " 4   location       4731 non-null   object             \n",
      " 5   retweets       4731 non-null   int64              \n",
      " 6   likes          4731 non-null   int64              \n",
      " 7   followers      4731 non-null   int64              \n",
      " 8   following      4731 non-null   int64              \n",
      " 9   verified       4731 non-null   bool               \n",
      " 10  tweet_source   4731 non-null   object             \n",
      "dtypes: bool(1), datetime64[ns, UTC](1), int64(5), object(4)\n",
      "memory usage: 374.4+ KB\n"
     ]
    }
   ],
   "source": [
    "df_obi.info()"
   ]
  },
  {
   "cell_type": "markdown",
   "id": "8d0ed030",
   "metadata": {},
   "source": [
    "## DATA ASSESSMENTS"
   ]
  },
  {
   "cell_type": "markdown",
   "id": "26973146",
   "metadata": {},
   "source": [
    "The only data issue (I expected more) I observed is:\n",
    "* Missing location values (quality issue)"
   ]
  },
  {
   "cell_type": "markdown",
   "id": "71cb82cf",
   "metadata": {},
   "source": [
    "## DATA CLEANING"
   ]
  },
  {
   "cell_type": "markdown",
   "id": "8a8fafc7",
   "metadata": {},
   "source": [
    "The dataframes are cleaned here. Just basically filling the empty locations with 'NA'."
   ]
  },
  {
   "cell_type": "markdown",
   "id": "2ea5312b",
   "metadata": {},
   "source": [
    "#### Copies of the dataframes made before cleaning"
   ]
  },
  {
   "cell_type": "code",
   "execution_count": 74,
   "id": "6b1848aa",
   "metadata": {},
   "outputs": [],
   "source": [
    "aa_df=df_aa.copy()\n",
    "bat_df=df_bat.copy()\n",
    "obi_df=df_obi.copy()"
   ]
  },
  {
   "cell_type": "code",
   "execution_count": null,
   "id": "b187c9bc",
   "metadata": {},
   "outputs": [],
   "source": []
  }
 ],
 "metadata": {
  "kernelspec": {
   "display_name": "Python 3 (ipykernel)",
   "language": "python",
   "name": "python3"
  },
  "language_info": {
   "codemirror_mode": {
    "name": "ipython",
    "version": 3
   },
   "file_extension": ".py",
   "mimetype": "text/x-python",
   "name": "python",
   "nbconvert_exporter": "python",
   "pygments_lexer": "ipython3",
   "version": "3.9.7"
  }
 },
 "nbformat": 4,
 "nbformat_minor": 5
}
