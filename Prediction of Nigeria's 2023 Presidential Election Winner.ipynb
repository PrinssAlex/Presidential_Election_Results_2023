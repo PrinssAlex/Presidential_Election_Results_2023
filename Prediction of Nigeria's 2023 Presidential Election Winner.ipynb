{
 "cells": [
  {
   "cell_type": "markdown",
   "id": "9ed28010",
   "metadata": {},
   "source": [
    "# Evidence-based Prediction of Nigeria's 2023 Presidential Election Winner\n",
    "<b>[by Ogbodum, P. Alex]</b>\n",
    "<br>\n",
    "<br>\n",
    "<br>\n",
    "<br>\n",
    "**Table of Contents:**\n",
    "<ul>\n",
    "    <li><a href='#introduction'> Introduction </a></li>\n",
    "    <li><a href='#data wrangling'> Data Wrangling </a></li>\n",
    "    <li><a href='#data storing'> Data Storing </a></li>\n",
    "    <li><a href='#eda'> Exploratory Data Analysis (Visualizations) </a></li>\n",
    "    <li><a href='#conclusion'> Conclusion </a></li>\n",
    "</ul>\n",
    "\n",
    "<a id='introduction'></a>\n",
    "## Introduction\n",
    "\n",
    "> **Name of Dataset: Loan Data From Prosper (.csv):** <ul><li>\n",
    "    **Dataset Source:** [Udacity](https://s3.amazonaws.com/udacity-hosted-downloads/ud651/prosperLoanData.csv.) <li>\n",
    "> **Description of Dataset:**   \n",
    "This data set contains...<li>\n",
    "    > **Variable (Column) Information:** <br>\n",
    "\n",
    " **Analysis Question:**\n",
    " - Correlation between incumbent governor political party and party with the most electoral votes for previous elections?\n",
    "\n",
    " - Which state had voted for a particular party consistently for at least 3 elections.\n",
    "\n",
    " - What age group had the most votes in previous elections both nationally and per state?\n",
    "\n",
    " - Which age group had the most registered voters per state. ( Using the date of expiration of voter's registration we can use the answer to this question to discover the potential voting power of each age group along with answer to number 3 question)\n",
    "\n",
    " - \n"
   ]
  },
  {
   "cell_type": "code",
   "execution_count": null,
   "id": "96fe924c",
   "metadata": {},
   "outputs": [],
   "source": []
  },
  {
   "cell_type": "markdown",
   "id": "7e69a47b",
   "metadata": {},
   "source": [
    "<a id='data wrangling'></a>\n",
    "## Data Wrangling"
   ]
  },
  {
   "cell_type": "markdown",
   "id": "e91573d8",
   "metadata": {},
   "source": [
    "<a id='data storing'></a>\n",
    "## Data Storing"
   ]
  },
  {
   "cell_type": "markdown",
   "id": "3a3e6fc0",
   "metadata": {},
   "source": [
    "<a id='eda'></a>\n",
    "## Exploratory Analysis (Visualizations)"
   ]
  },
  {
   "cell_type": "markdown",
   "id": "d8068357",
   "metadata": {},
   "source": [
    "<a id='conclusion'></a>\n",
    "## Conclusion"
   ]
  },
  {
   "cell_type": "code",
   "execution_count": null,
   "id": "9c0f0ac6",
   "metadata": {},
   "outputs": [],
   "source": []
  }
 ],
 "metadata": {
  "kernelspec": {
   "display_name": "Python 3 (ipykernel)",
   "language": "python",
   "name": "python3"
  },
  "language_info": {
   "codemirror_mode": {
    "name": "ipython",
    "version": 3
   },
   "file_extension": ".py",
   "mimetype": "text/x-python",
   "name": "python",
   "nbconvert_exporter": "python",
   "pygments_lexer": "ipython3",
   "version": "3.8.13"
  }
 },
 "nbformat": 4,
 "nbformat_minor": 5
}
