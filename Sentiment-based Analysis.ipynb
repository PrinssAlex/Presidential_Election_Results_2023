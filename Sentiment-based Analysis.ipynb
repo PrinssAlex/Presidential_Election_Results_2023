{
 "cells": [
  {
   "cell_type": "code",
   "execution_count": 1,
   "id": "2fbc2d77",
   "metadata": {},
   "outputs": [],
   "source": [
    "import numpy as np\n",
    "import pandas as pd\n",
    "import tweepy\n",
    "import matplotlib.pyplot as plt\n",
    "%matplotlib inline\n",
    "import seaborn as sb\n",
    "import re"
   ]
  },
  {
   "cell_type": "code",
   "execution_count": 2,
   "id": "78ba4d07",
   "metadata": {},
   "outputs": [],
   "source": [
    "from nltk.corpus import stopwords # to get stopwords from NLTK library\n",
    "from nltk.tokenize import word_tokenize # to create word tokens\n",
    "from nltk.stem import WordNetLemmatizer # to reduce words to orginal form\n",
    "from nltk.corpus import words # Get all words in english language\n",
    "\n",
    "import textblob\n",
    "from textblob import TextBlob\n",
    "\n",
    "from wordcloud import WordCloud\n",
    "from emot.emo_unicode import UNICODE_EMOJI # For emojis\n",
    "\n",
    "import string\n",
    "import warnings"
   ]
  },
  {
   "cell_type": "code",
   "execution_count": 12,
   "id": "3fb866a0",
   "metadata": {
    "scrolled": true
   },
   "outputs": [
    {
     "name": "stderr",
     "output_type": "stream",
     "text": [
      "[nltk_data] Downloading package punkt to\n",
      "[nltk_data]     C:\\Users\\Cheesom\\AppData\\Roaming\\nltk_data...\n",
      "[nltk_data]   Unzipping tokenizers\\punkt.zip.\n"
     ]
    },
    {
     "data": {
      "text/plain": [
       "True"
      ]
     },
     "execution_count": 12,
     "metadata": {},
     "output_type": "execute_result"
    }
   ],
   "source": [
    "import nltk\n",
    "nltk.download('punkt')"
   ]
  },
  {
   "cell_type": "code",
   "execution_count": 16,
   "id": "a2c2e070",
   "metadata": {
    "scrolled": true
   },
   "outputs": [
    {
     "name": "stderr",
     "output_type": "stream",
     "text": [
      "[nltk_data] Downloading package stopwords to\n",
      "[nltk_data]     C:\\Users\\Cheesom\\AppData\\Roaming\\nltk_data...\n",
      "[nltk_data]   Unzipping corpora\\stopwords.zip.\n"
     ]
    },
    {
     "data": {
      "text/plain": [
       "True"
      ]
     },
     "execution_count": 16,
     "metadata": {},
     "output_type": "execute_result"
    }
   ],
   "source": [
    "import nltk\n",
    "nltk.download('stopwords')"
   ]
  },
  {
   "cell_type": "code",
   "execution_count": 3,
   "id": "a609191e",
   "metadata": {},
   "outputs": [],
   "source": [
    "import string"
   ]
  },
  {
   "cell_type": "code",
   "execution_count": 23,
   "id": "23232095",
   "metadata": {},
   "outputs": [
    {
     "name": "stderr",
     "output_type": "stream",
     "text": [
      "[nltk_data] Downloading package wordnet to\n",
      "[nltk_data]     C:\\Users\\Cheesom\\AppData\\Roaming\\nltk_data...\n"
     ]
    },
    {
     "data": {
      "text/plain": [
       "True"
      ]
     },
     "execution_count": 23,
     "metadata": {},
     "output_type": "execute_result"
    }
   ],
   "source": [
    "import nltk\n",
    "nltk.download('wordnet')"
   ]
  },
  {
   "cell_type": "code",
   "execution_count": 8,
   "id": "8a7b576d",
   "metadata": {},
   "outputs": [],
   "source": [
    "# Access keys and tokens from Twitter Developer Account\n",
    "# These are hidden to comply with Twitter's API terms and conditions\n",
    "# You'll need to get a Twitter developer Account to get your own keys to use for this part.\n",
    "consumer_key = '_________________________'\n",
    "consumer_secret = '_________________________'\n",
    "access_token = '_________________________'\n",
    "access_secret = '_________________________'"
   ]
  },
  {
   "cell_type": "code",
   "execution_count": 10,
   "id": "50b76060",
   "metadata": {},
   "outputs": [],
   "source": [
    "auth = tweepy.OAuthHandler(consumer_key, consumer_secret) #Pass in Consumer key and secret for authentication by API\n",
    "auth.set_access_token (access_token, access_secret) # Pass in Access token and secret for authentication by API\n",
    "api = tweepy.API(auth, wait_on_rate_limit = True) #sleeps when API limit is reached"
   ]
  },
  {
   "cell_type": "markdown",
   "id": "908d9950",
   "metadata": {},
   "source": [
    "# GATHERING DATA"
   ]
  },
  {
   "cell_type": "markdown",
   "id": "a44e3391",
   "metadata": {},
   "source": [
    "### ATIKU ABUBAKAR"
   ]
  },
  {
   "cell_type": "code",
   "execution_count": 53,
   "id": "5acb3c48",
   "metadata": {},
   "outputs": [],
   "source": [
    "#create keywords to search for , filter links, retweets, replies\n",
    "search_words = \"#okowa OR #atikuokowa2023 OR #atiku\"\n",
    "search_query = search_words + \"-filter:retweets AND -filter:replies\""
   ]
  },
  {
   "cell_type": "code",
   "execution_count": 54,
   "id": "5ee776cb",
   "metadata": {},
   "outputs": [],
   "source": [
    "# specifying limit of 1,000,000 tweets\n",
    "# I prefer to gather tweets in batches then append, due to twitter's tweet request limitation\n",
    "limit=1000000\n",
    "\n",
    "# using tweepy to search for tweets with the key words in English \n",
    "tweets = tweepy.Cursor(api.search_tweets, q=search_query, count=100, lang=\"en\", tweet_mode='extended').items(limit)\n",
    "\n",
    "# specifying column headers of each tweet attribute\n",
    "columns=['id', 'username', 'time_of_tweet', 'tweet', 'location', 'retweets', 'likes', 'followers', 'following', 'verified',\n",
    "         'tweet_source']"
   ]
  },
  {
   "cell_type": "code",
   "execution_count": 55,
   "id": "5f7e79a1",
   "metadata": {},
   "outputs": [],
   "source": [
    "# appending each tweet attribute to the list data\n",
    "data= []\n",
    "for tweet in tweets:\n",
    "    data.append([tweet.id,tweet.user.screen_name,tweet.created_at,tweet.full_text,tweet.user.location,tweet.retweet_count,tweet.favorite_count,tweet.user.followers_count,tweet.user.friends_count,tweet.user.verified,tweet.source])"
   ]
  },
  {
   "cell_type": "code",
   "execution_count": 56,
   "id": "2b9d50dd",
   "metadata": {},
   "outputs": [
    {
     "data": {
      "text/plain": [
       "(1389, 11)"
      ]
     },
     "execution_count": 56,
     "metadata": {},
     "output_type": "execute_result"
    }
   ],
   "source": [
    "# creating a dataframe\n",
    "df_aa = pd.DataFrame(data, columns=columns)\n",
    "\n",
    "# cheking the number of rows and columns\n",
    "df_aa.shape"
   ]
  },
  {
   "cell_type": "code",
   "execution_count": 57,
   "id": "c4e99589",
   "metadata": {
    "collapsed": true
   },
   "outputs": [
    {
     "data": {
      "text/html": [
       "<div>\n",
       "<style scoped>\n",
       "    .dataframe tbody tr th:only-of-type {\n",
       "        vertical-align: middle;\n",
       "    }\n",
       "\n",
       "    .dataframe tbody tr th {\n",
       "        vertical-align: top;\n",
       "    }\n",
       "\n",
       "    .dataframe thead th {\n",
       "        text-align: right;\n",
       "    }\n",
       "</style>\n",
       "<table border=\"1\" class=\"dataframe\">\n",
       "  <thead>\n",
       "    <tr style=\"text-align: right;\">\n",
       "      <th></th>\n",
       "      <th>id</th>\n",
       "      <th>username</th>\n",
       "      <th>time_of_tweet</th>\n",
       "      <th>tweet</th>\n",
       "      <th>location</th>\n",
       "      <th>retweets</th>\n",
       "      <th>likes</th>\n",
       "      <th>followers</th>\n",
       "      <th>following</th>\n",
       "      <th>verified</th>\n",
       "      <th>tweet_source</th>\n",
       "    </tr>\n",
       "  </thead>\n",
       "  <tbody>\n",
       "    <tr>\n",
       "      <th>0</th>\n",
       "      <td>1585929663901478917</td>\n",
       "      <td>KingsleyNjomi1</td>\n",
       "      <td>2022-10-28 09:41:11+00:00</td>\n",
       "      <td>This man @renoomokri are you a politician? Of ...</td>\n",
       "      <td></td>\n",
       "      <td>0</td>\n",
       "      <td>0</td>\n",
       "      <td>55</td>\n",
       "      <td>255</td>\n",
       "      <td>False</td>\n",
       "      <td>Twitter for Android</td>\n",
       "    </tr>\n",
       "    <tr>\n",
       "      <th>1</th>\n",
       "      <td>1585929369843036160</td>\n",
       "      <td>OndoPDPVanguard</td>\n",
       "      <td>2022-10-28 09:40:01+00:00</td>\n",
       "      <td>Highlights of Ondo PDP Presidential Campaign C...</td>\n",
       "      <td>Ondo Nigeria</td>\n",
       "      <td>0</td>\n",
       "      <td>0</td>\n",
       "      <td>326</td>\n",
       "      <td>332</td>\n",
       "      <td>False</td>\n",
       "      <td>Twitter for iPhone</td>\n",
       "    </tr>\n",
       "    <tr>\n",
       "      <th>2</th>\n",
       "      <td>1585928744769814529</td>\n",
       "      <td>Getit4me44</td>\n",
       "      <td>2022-10-28 09:37:32+00:00</td>\n",
       "      <td>Elon Musk Officially takeover Twitter https://...</td>\n",
       "      <td>Nigeria</td>\n",
       "      <td>2</td>\n",
       "      <td>2</td>\n",
       "      <td>12</td>\n",
       "      <td>114</td>\n",
       "      <td>False</td>\n",
       "      <td>Twitter for Android</td>\n",
       "    </tr>\n",
       "    <tr>\n",
       "      <th>3</th>\n",
       "      <td>1585928287481495553</td>\n",
       "      <td>theallnigerian</td>\n",
       "      <td>2022-10-28 09:35:43+00:00</td>\n",
       "      <td>Kindly help in filling this survey. Thank you ...</td>\n",
       "      <td>lagos, nigeria</td>\n",
       "      <td>1</td>\n",
       "      <td>1</td>\n",
       "      <td>1255</td>\n",
       "      <td>1284</td>\n",
       "      <td>False</td>\n",
       "      <td>Twitter for iPhone</td>\n",
       "    </tr>\n",
       "    <tr>\n",
       "      <th>4</th>\n",
       "      <td>1585924498527727616</td>\n",
       "      <td>Zulzurander</td>\n",
       "      <td>2022-10-28 09:20:40+00:00</td>\n",
       "      <td>Also Aminu waziri is what @Benzema is to footb...</td>\n",
       "      <td>9th Realm</td>\n",
       "      <td>1</td>\n",
       "      <td>0</td>\n",
       "      <td>3789</td>\n",
       "      <td>3239</td>\n",
       "      <td>False</td>\n",
       "      <td>Twitter for Android</td>\n",
       "    </tr>\n",
       "  </tbody>\n",
       "</table>\n",
       "</div>"
      ],
      "text/plain": [
       "                    id         username             time_of_tweet  \\\n",
       "0  1585929663901478917   KingsleyNjomi1 2022-10-28 09:41:11+00:00   \n",
       "1  1585929369843036160  OndoPDPVanguard 2022-10-28 09:40:01+00:00   \n",
       "2  1585928744769814529       Getit4me44 2022-10-28 09:37:32+00:00   \n",
       "3  1585928287481495553   theallnigerian 2022-10-28 09:35:43+00:00   \n",
       "4  1585924498527727616      Zulzurander 2022-10-28 09:20:40+00:00   \n",
       "\n",
       "                                               tweet        location  \\\n",
       "0  This man @renoomokri are you a politician? Of ...                   \n",
       "1  Highlights of Ondo PDP Presidential Campaign C...    Ondo Nigeria   \n",
       "2  Elon Musk Officially takeover Twitter https://...         Nigeria   \n",
       "3  Kindly help in filling this survey. Thank you ...  lagos, nigeria   \n",
       "4  Also Aminu waziri is what @Benzema is to footb...       9th Realm   \n",
       "\n",
       "   retweets  likes  followers  following  verified         tweet_source  \n",
       "0         0      0         55        255     False  Twitter for Android  \n",
       "1         0      0        326        332     False   Twitter for iPhone  \n",
       "2         2      2         12        114     False  Twitter for Android  \n",
       "3         1      1       1255       1284     False   Twitter for iPhone  \n",
       "4         1      0       3789       3239     False  Twitter for Android  "
      ]
     },
     "execution_count": 57,
     "metadata": {},
     "output_type": "execute_result"
    }
   ],
   "source": [
    "df_aa.head()"
   ]
  },
  {
   "cell_type": "code",
   "execution_count": 58,
   "id": "53801efd",
   "metadata": {
    "collapsed": true
   },
   "outputs": [
    {
     "data": {
      "text/html": [
       "<div>\n",
       "<style scoped>\n",
       "    .dataframe tbody tr th:only-of-type {\n",
       "        vertical-align: middle;\n",
       "    }\n",
       "\n",
       "    .dataframe tbody tr th {\n",
       "        vertical-align: top;\n",
       "    }\n",
       "\n",
       "    .dataframe thead th {\n",
       "        text-align: right;\n",
       "    }\n",
       "</style>\n",
       "<table border=\"1\" class=\"dataframe\">\n",
       "  <thead>\n",
       "    <tr style=\"text-align: right;\">\n",
       "      <th></th>\n",
       "      <th>id</th>\n",
       "      <th>username</th>\n",
       "      <th>time_of_tweet</th>\n",
       "      <th>tweet</th>\n",
       "      <th>location</th>\n",
       "      <th>retweets</th>\n",
       "      <th>likes</th>\n",
       "      <th>followers</th>\n",
       "      <th>following</th>\n",
       "      <th>verified</th>\n",
       "      <th>tweet_source</th>\n",
       "    </tr>\n",
       "  </thead>\n",
       "  <tbody>\n",
       "    <tr>\n",
       "      <th>1384</th>\n",
       "      <td>1582669654475931648</td>\n",
       "      <td>AyotundeJames3</td>\n",
       "      <td>2022-10-19 09:47:04+00:00</td>\n",
       "      <td>Atiku's UNITY-SEED agenda is the best, most co...</td>\n",
       "      <td></td>\n",
       "      <td>3</td>\n",
       "      <td>8</td>\n",
       "      <td>101</td>\n",
       "      <td>216</td>\n",
       "      <td>False</td>\n",
       "      <td>Twitter for Android</td>\n",
       "    </tr>\n",
       "    <tr>\n",
       "      <th>1385</th>\n",
       "      <td>1582669474410688515</td>\n",
       "      <td>AbdulfataiHuss2</td>\n",
       "      <td>2022-10-19 09:46:21+00:00</td>\n",
       "      <td>I am so glad Nigeria will be great again.....A...</td>\n",
       "      <td>Abuja</td>\n",
       "      <td>0</td>\n",
       "      <td>0</td>\n",
       "      <td>82</td>\n",
       "      <td>156</td>\n",
       "      <td>False</td>\n",
       "      <td>Twitter Web App</td>\n",
       "    </tr>\n",
       "    <tr>\n",
       "      <th>1386</th>\n",
       "      <td>1582668563315589121</td>\n",
       "      <td>Scentfrankie</td>\n",
       "      <td>2022-10-19 09:42:44+00:00</td>\n",
       "      <td>We are watching. So very easy to say, for some...</td>\n",
       "      <td></td>\n",
       "      <td>1</td>\n",
       "      <td>1</td>\n",
       "      <td>131</td>\n",
       "      <td>113</td>\n",
       "      <td>False</td>\n",
       "      <td>Twitter for Android</td>\n",
       "    </tr>\n",
       "    <tr>\n",
       "      <th>1387</th>\n",
       "      <td>1582667738551816193</td>\n",
       "      <td>DebbieDebbie174</td>\n",
       "      <td>2022-10-19 09:39:28+00:00</td>\n",
       "      <td>National Unity can be achieved if every sectio...</td>\n",
       "      <td></td>\n",
       "      <td>10</td>\n",
       "      <td>22</td>\n",
       "      <td>154</td>\n",
       "      <td>297</td>\n",
       "      <td>False</td>\n",
       "      <td>Twitter for Android</td>\n",
       "    </tr>\n",
       "    <tr>\n",
       "      <th>1388</th>\n",
       "      <td>1582667403284316161</td>\n",
       "      <td>Scentfrankie</td>\n",
       "      <td>2022-10-19 09:38:08+00:00</td>\n",
       "      <td>🤣🤣🤣 ... I can't stop laughing\\n#NigeriaGetYour...</td>\n",
       "      <td></td>\n",
       "      <td>1</td>\n",
       "      <td>1</td>\n",
       "      <td>131</td>\n",
       "      <td>113</td>\n",
       "      <td>False</td>\n",
       "      <td>Twitter for Android</td>\n",
       "    </tr>\n",
       "  </tbody>\n",
       "</table>\n",
       "</div>"
      ],
      "text/plain": [
       "                       id         username             time_of_tweet  \\\n",
       "1384  1582669654475931648   AyotundeJames3 2022-10-19 09:47:04+00:00   \n",
       "1385  1582669474410688515  AbdulfataiHuss2 2022-10-19 09:46:21+00:00   \n",
       "1386  1582668563315589121     Scentfrankie 2022-10-19 09:42:44+00:00   \n",
       "1387  1582667738551816193  DebbieDebbie174 2022-10-19 09:39:28+00:00   \n",
       "1388  1582667403284316161     Scentfrankie 2022-10-19 09:38:08+00:00   \n",
       "\n",
       "                                                  tweet location  retweets  \\\n",
       "1384  Atiku's UNITY-SEED agenda is the best, most co...                  3   \n",
       "1385  I am so glad Nigeria will be great again.....A...    Abuja         0   \n",
       "1386  We are watching. So very easy to say, for some...                  1   \n",
       "1387  National Unity can be achieved if every sectio...                 10   \n",
       "1388  🤣🤣🤣 ... I can't stop laughing\\n#NigeriaGetYour...                  1   \n",
       "\n",
       "      likes  followers  following  verified         tweet_source  \n",
       "1384      8        101        216     False  Twitter for Android  \n",
       "1385      0         82        156     False      Twitter Web App  \n",
       "1386      1        131        113     False  Twitter for Android  \n",
       "1387     22        154        297     False  Twitter for Android  \n",
       "1388      1        131        113     False  Twitter for Android  "
      ]
     },
     "execution_count": 58,
     "metadata": {},
     "output_type": "execute_result"
    }
   ],
   "source": [
    "df_aa.tail()"
   ]
  },
  {
   "cell_type": "code",
   "execution_count": 63,
   "id": "6829ad4b",
   "metadata": {},
   "outputs": [],
   "source": [
    "# saving dataframe to a csv file\n",
    "df_aa.to_csv('atiku19Oct-28Oct(09_38_08am_to_09_41_11am).csv')"
   ]
  },
  {
   "cell_type": "markdown",
   "id": "caa3769d",
   "metadata": {},
   "source": [
    "### Bola Ahmed Tinubu"
   ]
  },
  {
   "cell_type": "code",
   "execution_count": null,
   "id": "ba84ed4f",
   "metadata": {},
   "outputs": [],
   "source": [
    "#create keywords to search for , filter links, retweets, replies\n",
    "search_words = \"#bat2023 OR #bolaahmedtinubu OR #tinubu OR #emilokan\"\n",
    "search_query = search_words + \"-filter:retweets AND -filter:replies\""
   ]
  },
  {
   "cell_type": "code",
   "execution_count": null,
   "id": "33adb899",
   "metadata": {},
   "outputs": [],
   "source": [
    "# specifying limit of 1,000,000 tweets\n",
    "# I prefer to gather tweets in batches then append, due to twitter's tweet request limitation\n",
    "limit=1000000\n",
    "\n",
    "# using tweepy to search for tweets with the key words in English \n",
    "tweets = tweepy.Cursor(api.search_tweets, q=search_query, count=100, lang=\"en\", tweet_mode='extended').items(limit)\n",
    "\n",
    "# specifying column headers of each tweet attribute\n",
    "columns=['id', 'username', 'time_of_tweet', 'tweet', 'location', 'retweets', 'likes', 'followers', 'following', 'verified',\n",
    "         'tweet_source']"
   ]
  },
  {
   "cell_type": "code",
   "execution_count": null,
   "id": "72fb1014",
   "metadata": {},
   "outputs": [],
   "source": [
    "# appending each tweet attribute to the list data\n",
    "data= []\n",
    "for tweet in tweets:\n",
    "    data.append([tweet.id,tweet.user.screen_name,tweet.created_at,tweet.full_text,tweet.user.location,tweet.retweet_count,tweet.favorite_count,tweet.user.followers_count,tweet.user.friends_count,tweet.user.verified,tweet.source])"
   ]
  },
  {
   "cell_type": "code",
   "execution_count": null,
   "id": "2f01ad34",
   "metadata": {},
   "outputs": [],
   "source": [
    "# creating a dataframe\n",
    "df_bat = pd.DataFrame(data, columns=columns)\n",
    "\n",
    "# cheking the number of rows and columns\n",
    "df_bat.shape"
   ]
  },
  {
   "cell_type": "code",
   "execution_count": null,
   "id": "68bfe329",
   "metadata": {},
   "outputs": [],
   "source": [
    "df_bat.head()"
   ]
  },
  {
   "cell_type": "code",
   "execution_count": null,
   "id": "5695660f",
   "metadata": {},
   "outputs": [],
   "source": [
    "df_bat.tail()"
   ]
  },
  {
   "cell_type": "code",
   "execution_count": null,
   "id": "fa2be7c5",
   "metadata": {},
   "outputs": [],
   "source": [
    "# saving dataframe to a csv file\n",
    "df_bat.to_csv('tinubu19Oct-28Oct(09_42_11am_to_09_37_32am).csv')"
   ]
  },
  {
   "cell_type": "markdown",
   "id": "7acb3515",
   "metadata": {},
   "source": [
    "### Peter Obi"
   ]
  },
  {
   "cell_type": "code",
   "execution_count": null,
   "id": "5a371559",
   "metadata": {},
   "outputs": [],
   "source": [
    "#create keywords to search for , filter links, retweets, replies\n",
    "search_words = \"#obidients OR #obidientlyyusuful OR obidatti2023 OR #obidient\"\n",
    "search_query = search_words + \"-filter:retweets AND -filter:replies\""
   ]
  },
  {
   "cell_type": "code",
   "execution_count": null,
   "id": "395c0e33",
   "metadata": {},
   "outputs": [],
   "source": [
    "# specifying limit of 1,000,000 tweets\n",
    "# I prefer to gather tweets in batches then append, due to twitter's tweet request limitation\n",
    "limit=1000000\n",
    "\n",
    "# using tweepy to search for tweets with the key words in English \n",
    "tweets = tweepy.Cursor(api.search_tweets, q=search_query, count=100, lang=\"en\", tweet_mode='extended').items(limit)\n",
    "\n",
    "# specifying column headers of each tweet attribute\n",
    "columns=['id', 'username', 'time_of_tweet', 'tweet', 'location', 'retweets', 'likes', 'followers', 'following', 'verified',\n",
    "         'tweet_source']"
   ]
  },
  {
   "cell_type": "code",
   "execution_count": null,
   "id": "158b3b64",
   "metadata": {},
   "outputs": [],
   "source": [
    "# appending each tweet attribute to the list data\n",
    "data= []\n",
    "for tweet in tweets:\n",
    "    data.append([tweet.id,tweet.user.screen_name,tweet.created_at,tweet.full_text,tweet.user.location,tweet.retweet_count,tweet.favorite_count,tweet.user.followers_count,tweet.user.friends_count,tweet.user.verified,tweet.source])"
   ]
  },
  {
   "cell_type": "code",
   "execution_count": null,
   "id": "89b7ced8",
   "metadata": {},
   "outputs": [],
   "source": [
    "# creating a dataframe\n",
    "df_obi = pd.DataFrame(data, columns=columns)\n",
    "\n",
    "# cheking the number of rows and columns\n",
    "df_obi.shape"
   ]
  },
  {
   "cell_type": "code",
   "execution_count": null,
   "id": "996c566c",
   "metadata": {},
   "outputs": [],
   "source": [
    "df_obi.head()"
   ]
  },
  {
   "cell_type": "code",
   "execution_count": null,
   "id": "1aed7ff3",
   "metadata": {},
   "outputs": [],
   "source": [
    "df_obi.tail()"
   ]
  },
  {
   "cell_type": "code",
   "execution_count": null,
   "id": "5333d675",
   "metadata": {},
   "outputs": [],
   "source": [
    "# saving dataframe to a csv file\n",
    "df_obi.to_csv('peterobi19Oct-28Oct(09_30_46am_to_09_33_38am).csv')"
   ]
  },
  {
   "cell_type": "markdown",
   "id": "17ef6b62",
   "metadata": {},
   "source": [
    "## DATA CLEANING"
   ]
  },
  {
   "cell_type": "code",
   "execution_count": 61,
   "id": "4df20d3f",
   "metadata": {
    "collapsed": true
   },
   "outputs": [
    {
     "name": "stdout",
     "output_type": "stream",
     "text": [
      "<class 'pandas.core.frame.DataFrame'>\n",
      "RangeIndex: 1389 entries, 0 to 1388\n",
      "Data columns (total 11 columns):\n",
      " #   Column         Non-Null Count  Dtype              \n",
      "---  ------         --------------  -----              \n",
      " 0   id             1389 non-null   int64              \n",
      " 1   username       1389 non-null   object             \n",
      " 2   time_of_tweet  1389 non-null   datetime64[ns, UTC]\n",
      " 3   tweet          1389 non-null   object             \n",
      " 4   location       1389 non-null   object             \n",
      " 5   retweets       1389 non-null   int64              \n",
      " 6   likes          1389 non-null   int64              \n",
      " 7   followers      1389 non-null   int64              \n",
      " 8   following      1389 non-null   int64              \n",
      " 9   verified       1389 non-null   bool               \n",
      " 10  tweet_source   1389 non-null   object             \n",
      "dtypes: bool(1), datetime64[ns, UTC](1), int64(5), object(4)\n",
      "memory usage: 110.0+ KB\n"
     ]
    }
   ],
   "source": [
    "df_aa.info()"
   ]
  },
  {
   "cell_type": "code",
   "execution_count": 62,
   "id": "a331ec04",
   "metadata": {
    "collapsed": true
   },
   "outputs": [
    {
     "name": "stdout",
     "output_type": "stream",
     "text": [
      "<class 'pandas.core.frame.DataFrame'>\n",
      "RangeIndex: 1657 entries, 0 to 1656\n",
      "Data columns (total 11 columns):\n",
      " #   Column         Non-Null Count  Dtype              \n",
      "---  ------         --------------  -----              \n",
      " 0   id             1657 non-null   int64              \n",
      " 1   username       1657 non-null   object             \n",
      " 2   time_of_tweet  1657 non-null   datetime64[ns, UTC]\n",
      " 3   tweet          1657 non-null   object             \n",
      " 4   location       1657 non-null   object             \n",
      " 5   retweets       1657 non-null   int64              \n",
      " 6   likes          1657 non-null   int64              \n",
      " 7   followers      1657 non-null   int64              \n",
      " 8   following      1657 non-null   int64              \n",
      " 9   verified       1657 non-null   bool               \n",
      " 10  tweet_source   1657 non-null   object             \n",
      "dtypes: bool(1), datetime64[ns, UTC](1), int64(5), object(4)\n",
      "memory usage: 131.2+ KB\n"
     ]
    }
   ],
   "source": [
    "df_bat.info()"
   ]
  },
  {
   "cell_type": "code",
   "execution_count": 60,
   "id": "9c866cc3",
   "metadata": {
    "collapsed": true
   },
   "outputs": [
    {
     "name": "stdout",
     "output_type": "stream",
     "text": [
      "<class 'pandas.core.frame.DataFrame'>\n",
      "RangeIndex: 4731 entries, 0 to 4730\n",
      "Data columns (total 11 columns):\n",
      " #   Column         Non-Null Count  Dtype              \n",
      "---  ------         --------------  -----              \n",
      " 0   id             4731 non-null   int64              \n",
      " 1   username       4731 non-null   object             \n",
      " 2   time_of_tweet  4731 non-null   datetime64[ns, UTC]\n",
      " 3   tweet          4731 non-null   object             \n",
      " 4   location       4731 non-null   object             \n",
      " 5   retweets       4731 non-null   int64              \n",
      " 6   likes          4731 non-null   int64              \n",
      " 7   followers      4731 non-null   int64              \n",
      " 8   following      4731 non-null   int64              \n",
      " 9   verified       4731 non-null   bool               \n",
      " 10  tweet_source   4731 non-null   object             \n",
      "dtypes: bool(1), datetime64[ns, UTC](1), int64(5), object(4)\n",
      "memory usage: 374.4+ KB\n"
     ]
    }
   ],
   "source": [
    "df_obi.info()"
   ]
  },
  {
   "cell_type": "markdown",
   "id": "8d0ed030",
   "metadata": {},
   "source": [
    "## DATA ASSESSMENTS"
   ]
  },
  {
   "cell_type": "markdown",
   "id": "26973146",
   "metadata": {},
   "source": [
    "The only data issue (I expected more) I observed is:\n",
    "* Missing location values (quality issue)"
   ]
  },
  {
   "cell_type": "markdown",
   "id": "71cb82cf",
   "metadata": {},
   "source": [
    "## DATA CLEANING"
   ]
  },
  {
   "cell_type": "markdown",
   "id": "8a8fafc7",
   "metadata": {},
   "source": [
    "The dataframes are cleaned here. Just basically filling the empty locations with 'NA'."
   ]
  },
  {
   "cell_type": "markdown",
   "id": "2ea5312b",
   "metadata": {},
   "source": [
    "#### Copies of the dataframes made before cleaning"
   ]
  },
  {
   "cell_type": "code",
   "execution_count": 74,
   "id": "6b1848aa",
   "metadata": {},
   "outputs": [],
   "source": [
    "aa_df=df_aa.copy()\n",
    "bat_df=df_bat.copy()\n",
    "obi_df=df_obi.copy()"
   ]
  },
  {
   "cell_type": "markdown",
   "id": "c1eed99c",
   "metadata": {},
   "source": [
    "### Reading the dataframes"
   ]
  },
  {
   "cell_type": "code",
   "execution_count": 4,
   "id": "95ce4bd5",
   "metadata": {},
   "outputs": [],
   "source": [
    "aa_df=pd.read_csv('atiku19Oct-28Oct(09_38_08am_to_09_41_11am).csv')\n",
    "bat_df=pd.read_csv('tinubu19Oct-28Oct(09_42_11am_to_09_37_32am).csv')\n",
    "obi_df=pd.read_csv('peterobi19Oct-28Oct(09_30_46am_to_09_33_38am).csv')"
   ]
  },
  {
   "cell_type": "markdown",
   "id": "df40f626",
   "metadata": {},
   "source": [
    "### ATIKU"
   ]
  },
  {
   "cell_type": "code",
   "execution_count": 5,
   "id": "005dfcb4",
   "metadata": {},
   "outputs": [],
   "source": [
    "def getHashtags(tweet):\n",
    "    tweet = tweet.lower()  #converts tweet to lower case\n",
    "    tweet = re.findall(r'\\#\\w+',tweet)  \n",
    "    return \" \".join(tweet)"
   ]
  },
  {
   "cell_type": "code",
   "execution_count": 6,
   "id": "55fea442",
   "metadata": {},
   "outputs": [],
   "source": [
    "aa_df['hashtags']=aa_df['tweet'].apply(getHashtags)"
   ]
  },
  {
   "cell_type": "code",
   "execution_count": 7,
   "id": "a9e810b6",
   "metadata": {},
   "outputs": [
    {
     "name": "stdout",
     "output_type": "stream",
     "text": [
      "The Total Number of Unique Hashtags is:  916\n"
     ]
    }
   ],
   "source": [
    "# Store hashtags in a list\n",
    "hashtags_list=aa_df['hashtags'].tolist()\n",
    "\n",
    "# Iterate over all hashtags and split where there is more than one hashtag per row of data\n",
    "hashtags = []\n",
    "for item in hashtags_list:\n",
    "    item = item.split()\n",
    "    for i in item:\n",
    "        hashtags.append(i)\n",
    "\n",
    "# Importing Collection module to determine unique count of all hashtags used\n",
    "from collections import Counter\n",
    "\n",
    "# Determine Unique count of all hashtags used\n",
    "counts=Counter(hashtags)\n",
    "hashtags_df=pd.DataFrame.from_dict(counts, orient='index').reset_index()\n",
    "hashtags_df.columns=['hashtags', 'count']\n",
    "hashtags_df.sort_values(by='count', ascending=False, inplace=True)\n",
    "print(\"The Total Number of Unique Hashtags is: \", hashtags_df.shape[0])"
   ]
  },
  {
   "cell_type": "code",
   "execution_count": 8,
   "id": "d9fc162b",
   "metadata": {},
   "outputs": [
    {
     "data": {
      "text/html": [
       "<div>\n",
       "<style scoped>\n",
       "    .dataframe tbody tr th:only-of-type {\n",
       "        vertical-align: middle;\n",
       "    }\n",
       "\n",
       "    .dataframe tbody tr th {\n",
       "        vertical-align: top;\n",
       "    }\n",
       "\n",
       "    .dataframe thead th {\n",
       "        text-align: right;\n",
       "    }\n",
       "</style>\n",
       "<table border=\"1\" class=\"dataframe\">\n",
       "  <thead>\n",
       "    <tr style=\"text-align: right;\">\n",
       "      <th></th>\n",
       "      <th>hashtags</th>\n",
       "      <th>count</th>\n",
       "    </tr>\n",
       "  </thead>\n",
       "  <tbody>\n",
       "    <tr>\n",
       "      <th>1</th>\n",
       "      <td>#atikuokowa2023</td>\n",
       "      <td>1025</td>\n",
       "    </tr>\n",
       "    <tr>\n",
       "      <th>0</th>\n",
       "      <td>#atiku</td>\n",
       "      <td>381</td>\n",
       "    </tr>\n",
       "    <tr>\n",
       "      <th>22</th>\n",
       "      <td>#atikukawai</td>\n",
       "      <td>225</td>\n",
       "    </tr>\n",
       "    <tr>\n",
       "      <th>94</th>\n",
       "      <td>#atikuinedo</td>\n",
       "      <td>138</td>\n",
       "    </tr>\n",
       "    <tr>\n",
       "      <th>14</th>\n",
       "      <td>#tinubu</td>\n",
       "      <td>129</td>\n",
       "    </tr>\n",
       "    <tr>\n",
       "      <th>33</th>\n",
       "      <td>#pdp</td>\n",
       "      <td>102</td>\n",
       "    </tr>\n",
       "    <tr>\n",
       "      <th>17</th>\n",
       "      <td>#peterobi</td>\n",
       "      <td>102</td>\n",
       "    </tr>\n",
       "    <tr>\n",
       "      <th>104</th>\n",
       "      <td>#atikuokowa</td>\n",
       "      <td>80</td>\n",
       "    </tr>\n",
       "    <tr>\n",
       "      <th>63</th>\n",
       "      <td>#pdprecoveryplan</td>\n",
       "      <td>62</td>\n",
       "    </tr>\n",
       "    <tr>\n",
       "      <th>583</th>\n",
       "      <td>#atikuokowainedo</td>\n",
       "      <td>56</td>\n",
       "    </tr>\n",
       "  </tbody>\n",
       "</table>\n",
       "</div>"
      ],
      "text/plain": [
       "             hashtags  count\n",
       "1     #atikuokowa2023   1025\n",
       "0              #atiku    381\n",
       "22        #atikukawai    225\n",
       "94        #atikuinedo    138\n",
       "14            #tinubu    129\n",
       "33               #pdp    102\n",
       "17          #peterobi    102\n",
       "104       #atikuokowa     80\n",
       "63   #pdprecoveryplan     62\n",
       "583  #atikuokowainedo     56"
      ]
     },
     "execution_count": 8,
     "metadata": {},
     "output_type": "execute_result"
    }
   ],
   "source": [
    "hashtags_df.head(10)"
   ]
  },
  {
   "cell_type": "code",
   "execution_count": 9,
   "id": "38c27dc7",
   "metadata": {},
   "outputs": [],
   "source": [
    "# Defining my NLTK stop words and my user-defined stop words\n",
    "stop_words = list(stopwords.words('english'))\n",
    "alphabets = list(string.ascii_lowercase)\n",
    "stop_words = stop_words + alphabets"
   ]
  },
  {
   "cell_type": "code",
   "execution_count": 10,
   "id": "a1201fe2",
   "metadata": {},
   "outputs": [],
   "source": [
    "emojis = list(UNICODE_EMOJI.keys())"
   ]
  },
  {
   "cell_type": "code",
   "execution_count": 11,
   "id": "f7832c69",
   "metadata": {},
   "outputs": [],
   "source": [
    "# preProcess tweet for sentiment analysis\n",
    "def preprocessTweets(tweet):\n",
    "    tweet = tweet.lower()\n",
    "    # Cleaning and removing URL’s\n",
    "    tweet = re.sub(r\"http\\S+|www\\S+|https\\S+\", '', tweet, flags = re.MULTILINE)\n",
    "    # Cleaning and removing repeating characters\n",
    "    tweet = re.sub(r'\\@\\w+|\\#\\w+|\\d+', '',  tweet)\n",
    "    # Cleaning and removing the above stop words list from the tweet text\n",
    "    tweet_tokens = word_tokenize(tweet)  \n",
    "    filtered_words = [w for w in tweet_tokens if w not in stop_words]\n",
    "    filtered_words = [w for w in filtered_words if w not in emojis]\n",
    "    # Cleaning and removing punctuations\n",
    "    unpunctuated_words = [w for w in filtered_words if w not in string.punctuation]\n",
    "    lemmatizer = WordNetLemmatizer() \n",
    "    lemma_words = [lemmatizer.lemmatize(w) for w in unpunctuated_words]\n",
    "    return \" \".join(lemma_words)"
   ]
  },
  {
   "cell_type": "code",
   "execution_count": 12,
   "id": "0780abc6",
   "metadata": {},
   "outputs": [],
   "source": [
    "# Generate a new column called 'Processed Tweets' by applying preprocessed tweets function to the 'Tweet' column.\n",
    "aa_df['Processed_Tweets']=aa_df['tweet'].apply(preprocessTweets)"
   ]
  },
  {
   "cell_type": "code",
   "execution_count": 13,
   "id": "37b2c7c6",
   "metadata": {},
   "outputs": [],
   "source": [
    "# Define function to obtain Polarity Score\n",
    "def getPolarity(tweet):\n",
    "    return TextBlob(tweet).sentiment.polarity\n",
    "\n",
    "# Define function to obtain Sentiment category\n",
    "def getSentimentTextBlob(polarity):\n",
    "    if polarity < 0:\n",
    "        return \"Negative\"\n",
    "    else:\n",
    "        return \"Positive\""
   ]
  },
  {
   "cell_type": "code",
   "execution_count": 14,
   "id": "9a7518db",
   "metadata": {},
   "outputs": [],
   "source": [
    "# Apply the functions to respective columns\n",
    "aa_df['Polarity']=aa_df['Processed_Tweets'].apply(getPolarity)\n",
    "aa_df['Sentiment']=aa_df['Polarity'].apply(getSentimentTextBlob)"
   ]
  },
  {
   "cell_type": "code",
   "execution_count": 15,
   "id": "e7d84033",
   "metadata": {},
   "outputs": [],
   "source": [
    "data=aa_df['Sentiment'].value_counts()"
   ]
  },
  {
   "cell_type": "code",
   "execution_count": 16,
   "id": "f14d7649",
   "metadata": {},
   "outputs": [
    {
     "data": {
      "image/png": "[encoded data removed]",
      "text/plain": [
       "<Figure size 1080x720 with 1 Axes>"
      ]
     },
     "metadata": {},
     "output_type": "display_data"
    }
   ],
   "source": [
    "# Plotting a pie chart to show distribution of Sentiments\n",
    "plt.figure(figsize=[15,10], facecolor='none')\n",
    "plt.pie(data, labels=['Positive', 'Negative'], colors=['#FEE715', '#666666'], startangle=90, explode= [0.05, 0.05], autopct='%1.1f%%');\n",
    "plt.title('Twitter Users Sentiments for Atiku Abubakar');"
   ]
  },
  {
   "cell_type": "markdown",
   "id": "9f3649da",
   "metadata": {},
   "source": [
    "### Bola Ahmed Tinubu"
   ]
  },
  {
   "cell_type": "code",
   "execution_count": 17,
   "id": "68ccf3c4",
   "metadata": {},
   "outputs": [
    {
     "data": {
      "text/html": [
       "<div>\n",
       "<style scoped>\n",
       "    .dataframe tbody tr th:only-of-type {\n",
       "        vertical-align: middle;\n",
       "    }\n",
       "\n",
       "    .dataframe tbody tr th {\n",
       "        vertical-align: top;\n",
       "    }\n",
       "\n",
       "    .dataframe thead th {\n",
       "        text-align: right;\n",
       "    }\n",
       "</style>\n",
       "<table border=\"1\" class=\"dataframe\">\n",
       "  <thead>\n",
       "    <tr style=\"text-align: right;\">\n",
       "      <th></th>\n",
       "      <th>Unnamed: 0</th>\n",
       "      <th>id</th>\n",
       "      <th>username</th>\n",
       "      <th>time_of_tweet</th>\n",
       "      <th>tweet</th>\n",
       "      <th>location</th>\n",
       "      <th>retweets</th>\n",
       "      <th>likes</th>\n",
       "      <th>followers</th>\n",
       "      <th>following</th>\n",
       "      <th>verified</th>\n",
       "      <th>tweet_source</th>\n",
       "      <th>hashtags</th>\n",
       "    </tr>\n",
       "  </thead>\n",
       "  <tbody>\n",
       "    <tr>\n",
       "      <th>0</th>\n",
       "      <td>0</td>\n",
       "      <td>1585928744769814529</td>\n",
       "      <td>Getit4me44</td>\n",
       "      <td>2022-10-28 09:37:32+00:00</td>\n",
       "      <td>Elon Musk Officially takeover Twitter https://...</td>\n",
       "      <td>Nigeria</td>\n",
       "      <td>2</td>\n",
       "      <td>2</td>\n",
       "      <td>12</td>\n",
       "      <td>114</td>\n",
       "      <td>False</td>\n",
       "      <td>Twitter for Android</td>\n",
       "      <td>#imrankhanpti #ispr #elonmusk #babarazam𓃵 #دور...</td>\n",
       "    </tr>\n",
       "    <tr>\n",
       "      <th>1</th>\n",
       "      <td>1</td>\n",
       "      <td>1585927275576336384</td>\n",
       "      <td>SWEEPITCLEANMVT</td>\n",
       "      <td>2022-10-28 09:31:42+00:00</td>\n",
       "      <td>I am a serious man with a serious purpose. I a...</td>\n",
       "      <td>Abuja, Nigeria</td>\n",
       "      <td>0</td>\n",
       "      <td>1</td>\n",
       "      <td>15</td>\n",
       "      <td>92</td>\n",
       "      <td>False</td>\n",
       "      <td>Twitter for Android</td>\n",
       "      <td>#elonmusk #pakistancricket #batksm2023 #bat2023</td>\n",
       "    </tr>\n",
       "    <tr>\n",
       "      <th>2</th>\n",
       "      <td>2</td>\n",
       "      <td>1585916514825162752</td>\n",
       "      <td>Mario9jaa</td>\n",
       "      <td>2022-10-28 08:48:56+00:00</td>\n",
       "      <td>Akoni Obinrin Osun, the Women Campaign Group f...</td>\n",
       "      <td>Somewhere safe.</td>\n",
       "      <td>7</td>\n",
       "      <td>15</td>\n",
       "      <td>10840</td>\n",
       "      <td>9814</td>\n",
       "      <td>False</td>\n",
       "      <td>Twitter for iPhone</td>\n",
       "      <td>#bat2023</td>\n",
       "    </tr>\n",
       "    <tr>\n",
       "      <th>3</th>\n",
       "      <td>3</td>\n",
       "      <td>1585913252768231424</td>\n",
       "      <td>Hasino_changes</td>\n",
       "      <td>2022-10-28 08:35:58+00:00</td>\n",
       "      <td>TGIF   \\nJummat Kareem 🕌📿 \\n\\n#HappyFriday #Ju...</td>\n",
       "      <td>Abuja, Nigeria</td>\n",
       "      <td>0</td>\n",
       "      <td>4</td>\n",
       "      <td>477</td>\n",
       "      <td>665</td>\n",
       "      <td>False</td>\n",
       "      <td>Twitter for iPhone</td>\n",
       "      <td>#happyfriday #jummahmubarak #bat2023 #tinubush...</td>\n",
       "    </tr>\n",
       "    <tr>\n",
       "      <th>4</th>\n",
       "      <td>4</td>\n",
       "      <td>1585911105494618112</td>\n",
       "      <td>apadebanjo</td>\n",
       "      <td>2022-10-28 08:27:27+00:00</td>\n",
       "      <td>The evil people in this country \"Nigeria\" alwa...</td>\n",
       "      <td>Ogbomoso</td>\n",
       "      <td>0</td>\n",
       "      <td>0</td>\n",
       "      <td>109</td>\n",
       "      <td>111</td>\n",
       "      <td>False</td>\n",
       "      <td>Twitter for Android</td>\n",
       "      <td>#tableshaker #obidients #bat2023</td>\n",
       "    </tr>\n",
       "  </tbody>\n",
       "</table>\n",
       "</div>"
      ],
      "text/plain": [
       "   Unnamed: 0                   id         username  \\\n",
       "0           0  1585928744769814529       Getit4me44   \n",
       "1           1  1585927275576336384  SWEEPITCLEANMVT   \n",
       "2           2  1585916514825162752        Mario9jaa   \n",
       "3           3  1585913252768231424   Hasino_changes   \n",
       "4           4  1585911105494618112       apadebanjo   \n",
       "\n",
       "               time_of_tweet  \\\n",
       "0  2022-10-28 09:37:32+00:00   \n",
       "1  2022-10-28 09:31:42+00:00   \n",
       "2  2022-10-28 08:48:56+00:00   \n",
       "3  2022-10-28 08:35:58+00:00   \n",
       "4  2022-10-28 08:27:27+00:00   \n",
       "\n",
       "                                               tweet         location  \\\n",
       "0  Elon Musk Officially takeover Twitter https://...          Nigeria   \n",
       "1  I am a serious man with a serious purpose. I a...   Abuja, Nigeria   \n",
       "2  Akoni Obinrin Osun, the Women Campaign Group f...  Somewhere safe.   \n",
       "3  TGIF   \\nJummat Kareem 🕌📿 \\n\\n#HappyFriday #Ju...   Abuja, Nigeria   \n",
       "4  The evil people in this country \"Nigeria\" alwa...         Ogbomoso   \n",
       "\n",
       "   retweets  likes  followers  following  verified         tweet_source  \\\n",
       "0         2      2         12        114     False  Twitter for Android   \n",
       "1         0      1         15         92     False  Twitter for Android   \n",
       "2         7     15      10840       9814     False   Twitter for iPhone   \n",
       "3         0      4        477        665     False   Twitter for iPhone   \n",
       "4         0      0        109        111     False  Twitter for Android   \n",
       "\n",
       "                                            hashtags  \n",
       "0  #imrankhanpti #ispr #elonmusk #babarazam𓃵 #دور...  \n",
       "1    #elonmusk #pakistancricket #batksm2023 #bat2023  \n",
       "2                                           #bat2023  \n",
       "3  #happyfriday #jummahmubarak #bat2023 #tinubush...  \n",
       "4                   #tableshaker #obidients #bat2023  "
      ]
     },
     "execution_count": 17,
     "metadata": {},
     "output_type": "execute_result"
    }
   ],
   "source": [
    "bat_df['hashtags']=bat_df['tweet'].apply(getHashtags)\n",
    "bat_df.head()"
   ]
  },
  {
   "cell_type": "code",
   "execution_count": 18,
   "id": "89ea5ad0",
   "metadata": {},
   "outputs": [
    {
     "name": "stdout",
     "output_type": "stream",
     "text": [
      "The Total Number of Unique Hashtags is:  1603\n"
     ]
    }
   ],
   "source": [
    "# Store hashtags in a list\n",
    "hashtags_list=bat_df['hashtags'].tolist()\n",
    "\n",
    "# Iterate over all hashtags and split where there is more than one hashtag per row of data\n",
    "hashtags = []\n",
    "for item in hashtags_list:\n",
    "    item = item.split()\n",
    "    for i in item:\n",
    "        hashtags.append(i)\n",
    "\n",
    "# Importing Collection module to determine unique count of all hashtags used\n",
    "from collections import Counter\n",
    "\n",
    "# Determine Unique count of all hashtags used\n",
    "counts=Counter(hashtags)\n",
    "hashtags_df=pd.DataFrame.from_dict(counts, orient='index').reset_index()\n",
    "hashtags_df.columns=['hashtags', 'count']\n",
    "hashtags_df.sort_values(by='count', ascending=False, inplace=True)\n",
    "print(\"The Total Number of Unique Hashtags is: \", hashtags_df.shape[0])"
   ]
  },
  {
   "cell_type": "code",
   "execution_count": 19,
   "id": "a5cd8d1b",
   "metadata": {},
   "outputs": [
    {
     "data": {
      "text/html": [
       "<div>\n",
       "<style scoped>\n",
       "    .dataframe tbody tr th:only-of-type {\n",
       "        vertical-align: middle;\n",
       "    }\n",
       "\n",
       "    .dataframe tbody tr th {\n",
       "        vertical-align: top;\n",
       "    }\n",
       "\n",
       "    .dataframe thead th {\n",
       "        text-align: right;\n",
       "    }\n",
       "</style>\n",
       "<table border=\"1\" class=\"dataframe\">\n",
       "  <thead>\n",
       "    <tr style=\"text-align: right;\">\n",
       "      <th></th>\n",
       "      <th>hashtags</th>\n",
       "      <th>count</th>\n",
       "    </tr>\n",
       "  </thead>\n",
       "  <tbody>\n",
       "    <tr>\n",
       "      <th>13</th>\n",
       "      <td>#tinubu</td>\n",
       "      <td>897</td>\n",
       "    </tr>\n",
       "    <tr>\n",
       "      <th>15</th>\n",
       "      <td>#bat2023</td>\n",
       "      <td>721</td>\n",
       "    </tr>\n",
       "    <tr>\n",
       "      <th>128</th>\n",
       "      <td>#whatsapp</td>\n",
       "      <td>172</td>\n",
       "    </tr>\n",
       "    <tr>\n",
       "      <th>49</th>\n",
       "      <td>#renewedhope2023</td>\n",
       "      <td>159</td>\n",
       "    </tr>\n",
       "    <tr>\n",
       "      <th>64</th>\n",
       "      <td>#peterobi</td>\n",
       "      <td>127</td>\n",
       "    </tr>\n",
       "    <tr>\n",
       "      <th>37</th>\n",
       "      <td>#atiku</td>\n",
       "      <td>124</td>\n",
       "    </tr>\n",
       "    <tr>\n",
       "      <th>182</th>\n",
       "      <td>#kanyewest</td>\n",
       "      <td>117</td>\n",
       "    </tr>\n",
       "    <tr>\n",
       "      <th>375</th>\n",
       "      <td>#houseofthedragon</td>\n",
       "      <td>111</td>\n",
       "    </tr>\n",
       "    <tr>\n",
       "      <th>106</th>\n",
       "      <td>#apc</td>\n",
       "      <td>106</td>\n",
       "    </tr>\n",
       "    <tr>\n",
       "      <th>313</th>\n",
       "      <td>#mama2022</td>\n",
       "      <td>91</td>\n",
       "    </tr>\n",
       "  </tbody>\n",
       "</table>\n",
       "</div>"
      ],
      "text/plain": [
       "              hashtags  count\n",
       "13             #tinubu    897\n",
       "15            #bat2023    721\n",
       "128          #whatsapp    172\n",
       "49    #renewedhope2023    159\n",
       "64           #peterobi    127\n",
       "37              #atiku    124\n",
       "182         #kanyewest    117\n",
       "375  #houseofthedragon    111\n",
       "106               #apc    106\n",
       "313          #mama2022     91"
      ]
     },
     "execution_count": 19,
     "metadata": {},
     "output_type": "execute_result"
    }
   ],
   "source": [
    "# Checking the hashtag dataframe for the top 10 hashtags used\n",
    "hashtags_df.head(10)"
   ]
  },
  {
   "cell_type": "code",
   "execution_count": 20,
   "id": "253c1901",
   "metadata": {},
   "outputs": [
    {
     "data": {
      "text/html": [
       "<div>\n",
       "<style scoped>\n",
       "    .dataframe tbody tr th:only-of-type {\n",
       "        vertical-align: middle;\n",
       "    }\n",
       "\n",
       "    .dataframe tbody tr th {\n",
       "        vertical-align: top;\n",
       "    }\n",
       "\n",
       "    .dataframe thead th {\n",
       "        text-align: right;\n",
       "    }\n",
       "</style>\n",
       "<table border=\"1\" class=\"dataframe\">\n",
       "  <thead>\n",
       "    <tr style=\"text-align: right;\">\n",
       "      <th></th>\n",
       "      <th>Unnamed: 0</th>\n",
       "      <th>id</th>\n",
       "      <th>username</th>\n",
       "      <th>time_of_tweet</th>\n",
       "      <th>tweet</th>\n",
       "      <th>location</th>\n",
       "      <th>retweets</th>\n",
       "      <th>likes</th>\n",
       "      <th>followers</th>\n",
       "      <th>following</th>\n",
       "      <th>verified</th>\n",
       "      <th>tweet_source</th>\n",
       "      <th>hashtags</th>\n",
       "      <th>Processed_Tweets</th>\n",
       "    </tr>\n",
       "  </thead>\n",
       "  <tbody>\n",
       "    <tr>\n",
       "      <th>0</th>\n",
       "      <td>0</td>\n",
       "      <td>1585928744769814529</td>\n",
       "      <td>Getit4me44</td>\n",
       "      <td>2022-10-28 09:37:32+00:00</td>\n",
       "      <td>Elon Musk Officially takeover Twitter https://...</td>\n",
       "      <td>Nigeria</td>\n",
       "      <td>2</td>\n",
       "      <td>2</td>\n",
       "      <td>12</td>\n",
       "      <td>114</td>\n",
       "      <td>False</td>\n",
       "      <td>Twitter for Android</td>\n",
       "      <td>#imrankhanpti #ispr #elonmusk #babarazam𓃵 #دور...</td>\n",
       "      <td>elon musk officially takeover twitter via</td>\n",
       "    </tr>\n",
       "    <tr>\n",
       "      <th>1</th>\n",
       "      <td>1</td>\n",
       "      <td>1585927275576336384</td>\n",
       "      <td>SWEEPITCLEANMVT</td>\n",
       "      <td>2022-10-28 09:31:42+00:00</td>\n",
       "      <td>I am a serious man with a serious purpose. I a...</td>\n",
       "      <td>Abuja, Nigeria</td>\n",
       "      <td>0</td>\n",
       "      <td>1</td>\n",
       "      <td>15</td>\n",
       "      <td>92</td>\n",
       "      <td>False</td>\n",
       "      <td>Twitter for Android</td>\n",
       "      <td>#elonmusk #pakistancricket #batksm2023 #bat2023</td>\n",
       "      <td>serious man serious purpose future assured</td>\n",
       "    </tr>\n",
       "    <tr>\n",
       "      <th>2</th>\n",
       "      <td>2</td>\n",
       "      <td>1585916514825162752</td>\n",
       "      <td>Mario9jaa</td>\n",
       "      <td>2022-10-28 08:48:56+00:00</td>\n",
       "      <td>Akoni Obinrin Osun, the Women Campaign Group f...</td>\n",
       "      <td>Somewhere safe.</td>\n",
       "      <td>7</td>\n",
       "      <td>15</td>\n",
       "      <td>10840</td>\n",
       "      <td>9814</td>\n",
       "      <td>False</td>\n",
       "      <td>Twitter for iPhone</td>\n",
       "      <td>#bat2023</td>\n",
       "      <td>akoni obinrin osun woman campaign group presid...</td>\n",
       "    </tr>\n",
       "    <tr>\n",
       "      <th>3</th>\n",
       "      <td>3</td>\n",
       "      <td>1585913252768231424</td>\n",
       "      <td>Hasino_changes</td>\n",
       "      <td>2022-10-28 08:35:58+00:00</td>\n",
       "      <td>TGIF   \\nJummat Kareem 🕌📿 \\n\\n#HappyFriday #Ju...</td>\n",
       "      <td>Abuja, Nigeria</td>\n",
       "      <td>0</td>\n",
       "      <td>4</td>\n",
       "      <td>477</td>\n",
       "      <td>665</td>\n",
       "      <td>False</td>\n",
       "      <td>Twitter for iPhone</td>\n",
       "      <td>#happyfriday #jummahmubarak #bat2023 #tinubush...</td>\n",
       "      <td>tgif jummat kareem 🕌📿</td>\n",
       "    </tr>\n",
       "    <tr>\n",
       "      <th>4</th>\n",
       "      <td>4</td>\n",
       "      <td>1585911105494618112</td>\n",
       "      <td>apadebanjo</td>\n",
       "      <td>2022-10-28 08:27:27+00:00</td>\n",
       "      <td>The evil people in this country \"Nigeria\" alwa...</td>\n",
       "      <td>Ogbomoso</td>\n",
       "      <td>0</td>\n",
       "      <td>0</td>\n",
       "      <td>109</td>\n",
       "      <td>111</td>\n",
       "      <td>False</td>\n",
       "      <td>Twitter for Android</td>\n",
       "      <td>#tableshaker #obidients #bat2023</td>\n",
       "      <td>evil people country `` nigeria '' always seek ...</td>\n",
       "    </tr>\n",
       "  </tbody>\n",
       "</table>\n",
       "</div>"
      ],
      "text/plain": [
       "   Unnamed: 0                   id         username  \\\n",
       "0           0  1585928744769814529       Getit4me44   \n",
       "1           1  1585927275576336384  SWEEPITCLEANMVT   \n",
       "2           2  1585916514825162752        Mario9jaa   \n",
       "3           3  1585913252768231424   Hasino_changes   \n",
       "4           4  1585911105494618112       apadebanjo   \n",
       "\n",
       "               time_of_tweet  \\\n",
       "0  2022-10-28 09:37:32+00:00   \n",
       "1  2022-10-28 09:31:42+00:00   \n",
       "2  2022-10-28 08:48:56+00:00   \n",
       "3  2022-10-28 08:35:58+00:00   \n",
       "4  2022-10-28 08:27:27+00:00   \n",
       "\n",
       "                                               tweet         location  \\\n",
       "0  Elon Musk Officially takeover Twitter https://...          Nigeria   \n",
       "1  I am a serious man with a serious purpose. I a...   Abuja, Nigeria   \n",
       "2  Akoni Obinrin Osun, the Women Campaign Group f...  Somewhere safe.   \n",
       "3  TGIF   \\nJummat Kareem 🕌📿 \\n\\n#HappyFriday #Ju...   Abuja, Nigeria   \n",
       "4  The evil people in this country \"Nigeria\" alwa...         Ogbomoso   \n",
       "\n",
       "   retweets  likes  followers  following  verified         tweet_source  \\\n",
       "0         2      2         12        114     False  Twitter for Android   \n",
       "1         0      1         15         92     False  Twitter for Android   \n",
       "2         7     15      10840       9814     False   Twitter for iPhone   \n",
       "3         0      4        477        665     False   Twitter for iPhone   \n",
       "4         0      0        109        111     False  Twitter for Android   \n",
       "\n",
       "                                            hashtags  \\\n",
       "0  #imrankhanpti #ispr #elonmusk #babarazam𓃵 #دور...   \n",
       "1    #elonmusk #pakistancricket #batksm2023 #bat2023   \n",
       "2                                           #bat2023   \n",
       "3  #happyfriday #jummahmubarak #bat2023 #tinubush...   \n",
       "4                   #tableshaker #obidients #bat2023   \n",
       "\n",
       "                                    Processed_Tweets  \n",
       "0          elon musk officially takeover twitter via  \n",
       "1         serious man serious purpose future assured  \n",
       "2  akoni obinrin osun woman campaign group presid...  \n",
       "3                              tgif jummat kareem 🕌📿  \n",
       "4  evil people country `` nigeria '' always seek ...  "
      ]
     },
     "execution_count": 20,
     "metadata": {},
     "output_type": "execute_result"
    }
   ],
   "source": [
    "# Generate a new column called 'Processed Tweets' by applying preprocessed tweets function to the 'Tweet' column.\n",
    "bat_df['Processed_Tweets']=bat_df['tweet'].apply(preprocessTweets)\n",
    "bat_df.head()"
   ]
  },
  {
   "cell_type": "code",
   "execution_count": 21,
   "id": "9a44e8df",
   "metadata": {},
   "outputs": [],
   "source": [
    "# Apply the polarity and sentiment functions to respective columns\n",
    "bat_df['Polarity']=bat_df['Processed_Tweets'].apply(getPolarity)\n",
    "bat_df['Sentiment']=bat_df['Polarity'].apply(getSentimentTextBlob)"
   ]
  },
  {
   "cell_type": "code",
   "execution_count": 22,
   "id": "04f8fe03",
   "metadata": {},
   "outputs": [
    {
     "data": {
      "text/html": [
       "<div>\n",
       "<style scoped>\n",
       "    .dataframe tbody tr th:only-of-type {\n",
       "        vertical-align: middle;\n",
       "    }\n",
       "\n",
       "    .dataframe tbody tr th {\n",
       "        vertical-align: top;\n",
       "    }\n",
       "\n",
       "    .dataframe thead th {\n",
       "        text-align: right;\n",
       "    }\n",
       "</style>\n",
       "<table border=\"1\" class=\"dataframe\">\n",
       "  <thead>\n",
       "    <tr style=\"text-align: right;\">\n",
       "      <th></th>\n",
       "      <th>Unnamed: 0</th>\n",
       "      <th>id</th>\n",
       "      <th>username</th>\n",
       "      <th>time_of_tweet</th>\n",
       "      <th>tweet</th>\n",
       "      <th>location</th>\n",
       "      <th>retweets</th>\n",
       "      <th>likes</th>\n",
       "      <th>followers</th>\n",
       "      <th>following</th>\n",
       "      <th>verified</th>\n",
       "      <th>tweet_source</th>\n",
       "      <th>hashtags</th>\n",
       "      <th>Processed_Tweets</th>\n",
       "      <th>Polarity</th>\n",
       "      <th>Sentiment</th>\n",
       "    </tr>\n",
       "  </thead>\n",
       "  <tbody>\n",
       "    <tr>\n",
       "      <th>0</th>\n",
       "      <td>0</td>\n",
       "      <td>1585928744769814529</td>\n",
       "      <td>Getit4me44</td>\n",
       "      <td>2022-10-28 09:37:32+00:00</td>\n",
       "      <td>Elon Musk Officially takeover Twitter https://...</td>\n",
       "      <td>Nigeria</td>\n",
       "      <td>2</td>\n",
       "      <td>2</td>\n",
       "      <td>12</td>\n",
       "      <td>114</td>\n",
       "      <td>False</td>\n",
       "      <td>Twitter for Android</td>\n",
       "      <td>#imrankhanpti #ispr #elonmusk #babarazam𓃵 #دور...</td>\n",
       "      <td>elon musk officially takeover twitter via</td>\n",
       "      <td>0.000000</td>\n",
       "      <td>Positive</td>\n",
       "    </tr>\n",
       "    <tr>\n",
       "      <th>1</th>\n",
       "      <td>1</td>\n",
       "      <td>1585927275576336384</td>\n",
       "      <td>SWEEPITCLEANMVT</td>\n",
       "      <td>2022-10-28 09:31:42+00:00</td>\n",
       "      <td>I am a serious man with a serious purpose. I a...</td>\n",
       "      <td>Abuja, Nigeria</td>\n",
       "      <td>0</td>\n",
       "      <td>1</td>\n",
       "      <td>15</td>\n",
       "      <td>92</td>\n",
       "      <td>False</td>\n",
       "      <td>Twitter for Android</td>\n",
       "      <td>#elonmusk #pakistancricket #batksm2023 #bat2023</td>\n",
       "      <td>serious man serious purpose future assured</td>\n",
       "      <td>-0.222222</td>\n",
       "      <td>Negative</td>\n",
       "    </tr>\n",
       "    <tr>\n",
       "      <th>2</th>\n",
       "      <td>2</td>\n",
       "      <td>1585916514825162752</td>\n",
       "      <td>Mario9jaa</td>\n",
       "      <td>2022-10-28 08:48:56+00:00</td>\n",
       "      <td>Akoni Obinrin Osun, the Women Campaign Group f...</td>\n",
       "      <td>Somewhere safe.</td>\n",
       "      <td>7</td>\n",
       "      <td>15</td>\n",
       "      <td>10840</td>\n",
       "      <td>9814</td>\n",
       "      <td>False</td>\n",
       "      <td>Twitter for iPhone</td>\n",
       "      <td>#bat2023</td>\n",
       "      <td>akoni obinrin osun woman campaign group presid...</td>\n",
       "      <td>0.136364</td>\n",
       "      <td>Positive</td>\n",
       "    </tr>\n",
       "    <tr>\n",
       "      <th>3</th>\n",
       "      <td>3</td>\n",
       "      <td>1585913252768231424</td>\n",
       "      <td>Hasino_changes</td>\n",
       "      <td>2022-10-28 08:35:58+00:00</td>\n",
       "      <td>TGIF   \\nJummat Kareem 🕌📿 \\n\\n#HappyFriday #Ju...</td>\n",
       "      <td>Abuja, Nigeria</td>\n",
       "      <td>0</td>\n",
       "      <td>4</td>\n",
       "      <td>477</td>\n",
       "      <td>665</td>\n",
       "      <td>False</td>\n",
       "      <td>Twitter for iPhone</td>\n",
       "      <td>#happyfriday #jummahmubarak #bat2023 #tinubush...</td>\n",
       "      <td>tgif jummat kareem 🕌📿</td>\n",
       "      <td>0.000000</td>\n",
       "      <td>Positive</td>\n",
       "    </tr>\n",
       "    <tr>\n",
       "      <th>4</th>\n",
       "      <td>4</td>\n",
       "      <td>1585911105494618112</td>\n",
       "      <td>apadebanjo</td>\n",
       "      <td>2022-10-28 08:27:27+00:00</td>\n",
       "      <td>The evil people in this country \"Nigeria\" alwa...</td>\n",
       "      <td>Ogbomoso</td>\n",
       "      <td>0</td>\n",
       "      <td>0</td>\n",
       "      <td>109</td>\n",
       "      <td>111</td>\n",
       "      <td>False</td>\n",
       "      <td>Twitter for Android</td>\n",
       "      <td>#tableshaker #obidients #bat2023</td>\n",
       "      <td>evil people country `` nigeria '' always seek ...</td>\n",
       "      <td>-0.500000</td>\n",
       "      <td>Negative</td>\n",
       "    </tr>\n",
       "  </tbody>\n",
       "</table>\n",
       "</div>"
      ],
      "text/plain": [
       "   Unnamed: 0                   id         username  \\\n",
       "0           0  1585928744769814529       Getit4me44   \n",
       "1           1  1585927275576336384  SWEEPITCLEANMVT   \n",
       "2           2  1585916514825162752        Mario9jaa   \n",
       "3           3  1585913252768231424   Hasino_changes   \n",
       "4           4  1585911105494618112       apadebanjo   \n",
       "\n",
       "               time_of_tweet  \\\n",
       "0  2022-10-28 09:37:32+00:00   \n",
       "1  2022-10-28 09:31:42+00:00   \n",
       "2  2022-10-28 08:48:56+00:00   \n",
       "3  2022-10-28 08:35:58+00:00   \n",
       "4  2022-10-28 08:27:27+00:00   \n",
       "\n",
       "                                               tweet         location  \\\n",
       "0  Elon Musk Officially takeover Twitter https://...          Nigeria   \n",
       "1  I am a serious man with a serious purpose. I a...   Abuja, Nigeria   \n",
       "2  Akoni Obinrin Osun, the Women Campaign Group f...  Somewhere safe.   \n",
       "3  TGIF   \\nJummat Kareem 🕌📿 \\n\\n#HappyFriday #Ju...   Abuja, Nigeria   \n",
       "4  The evil people in this country \"Nigeria\" alwa...         Ogbomoso   \n",
       "\n",
       "   retweets  likes  followers  following  verified         tweet_source  \\\n",
       "0         2      2         12        114     False  Twitter for Android   \n",
       "1         0      1         15         92     False  Twitter for Android   \n",
       "2         7     15      10840       9814     False   Twitter for iPhone   \n",
       "3         0      4        477        665     False   Twitter for iPhone   \n",
       "4         0      0        109        111     False  Twitter for Android   \n",
       "\n",
       "                                            hashtags  \\\n",
       "0  #imrankhanpti #ispr #elonmusk #babarazam𓃵 #دور...   \n",
       "1    #elonmusk #pakistancricket #batksm2023 #bat2023   \n",
       "2                                           #bat2023   \n",
       "3  #happyfriday #jummahmubarak #bat2023 #tinubush...   \n",
       "4                   #tableshaker #obidients #bat2023   \n",
       "\n",
       "                                    Processed_Tweets  Polarity Sentiment  \n",
       "0          elon musk officially takeover twitter via  0.000000  Positive  \n",
       "1         serious man serious purpose future assured -0.222222  Negative  \n",
       "2  akoni obinrin osun woman campaign group presid...  0.136364  Positive  \n",
       "3                              tgif jummat kareem 🕌📿  0.000000  Positive  \n",
       "4  evil people country `` nigeria '' always seek ... -0.500000  Negative  "
      ]
     },
     "execution_count": 22,
     "metadata": {},
     "output_type": "execute_result"
    }
   ],
   "source": [
    "bat_df.head()"
   ]
  },
  {
   "cell_type": "code",
   "execution_count": 23,
   "id": "7b48ca81",
   "metadata": {},
   "outputs": [],
   "source": [
    "data=bat_df['Sentiment'].value_counts()"
   ]
  },
  {
   "cell_type": "code",
   "execution_count": 24,
   "id": "352519da",
   "metadata": {},
   "outputs": [
    {
     "data": {
      "image/png": "[encoded data removed]",
      "text/plain": [
       "<Figure size 1080x720 with 1 Axes>"
      ]
     },
     "metadata": {},
     "output_type": "display_data"
    }
   ],
   "source": [
    "# Plotting a pie chart to show distribution of Sentiments\n",
    "plt.figure(figsize=[15,10], facecolor='none')\n",
    "plt.pie(data, labels=['Positive', 'Negative'], colors=['#FEE715', '#666666'], startangle=90, explode= [0.05, 0.05], autopct='%1.1f%%');\n",
    "plt.title('Twitter Users Sentiments for Bola Ahmed');"
   ]
  },
  {
   "cell_type": "markdown",
   "id": "4bf4b823",
   "metadata": {},
   "source": [
    "### Peter Obi"
   ]
  },
  {
   "cell_type": "code",
   "execution_count": 6,
   "id": "f5ceb7e4",
   "metadata": {
    "collapsed": true
   },
   "outputs": [
    {
     "data": {
      "text/html": [
       "<div>\n",
       "<style scoped>\n",
       "    .dataframe tbody tr th:only-of-type {\n",
       "        vertical-align: middle;\n",
       "    }\n",
       "\n",
       "    .dataframe tbody tr th {\n",
       "        vertical-align: top;\n",
       "    }\n",
       "\n",
       "    .dataframe thead th {\n",
       "        text-align: right;\n",
       "    }\n",
       "</style>\n",
       "<table border=\"1\" class=\"dataframe\">\n",
       "  <thead>\n",
       "    <tr style=\"text-align: right;\">\n",
       "      <th></th>\n",
       "      <th>Unnamed: 0</th>\n",
       "      <th>id</th>\n",
       "      <th>username</th>\n",
       "      <th>time_of_tweet</th>\n",
       "      <th>tweet</th>\n",
       "      <th>location</th>\n",
       "      <th>retweets</th>\n",
       "      <th>likes</th>\n",
       "      <th>followers</th>\n",
       "      <th>following</th>\n",
       "      <th>verified</th>\n",
       "      <th>tweet_source</th>\n",
       "      <th>hashtags</th>\n",
       "    </tr>\n",
       "  </thead>\n",
       "  <tbody>\n",
       "    <tr>\n",
       "      <th>0</th>\n",
       "      <td>0</td>\n",
       "      <td>1585927762170109952</td>\n",
       "      <td>AKD205036451</td>\n",
       "      <td>2022-10-28 09:33:38+00:00</td>\n",
       "      <td>from:AKD205036451 As at today, I humbly advise...</td>\n",
       "      <td>NaN</td>\n",
       "      <td>0</td>\n",
       "      <td>0</td>\n",
       "      <td>16</td>\n",
       "      <td>92</td>\n",
       "      <td>False</td>\n",
       "      <td>Twitter for iPhone</td>\n",
       "      <td></td>\n",
       "    </tr>\n",
       "    <tr>\n",
       "      <th>1</th>\n",
       "      <td>1</td>\n",
       "      <td>1585927310082916352</td>\n",
       "      <td>AellayMedaiyese</td>\n",
       "      <td>2022-10-28 09:31:50+00:00</td>\n",
       "      <td>I called, you giving me attitude saying you ga...</td>\n",
       "      <td>Federal Capital Territory</td>\n",
       "      <td>0</td>\n",
       "      <td>0</td>\n",
       "      <td>6378</td>\n",
       "      <td>372</td>\n",
       "      <td>False</td>\n",
       "      <td>Twitter for iPhone</td>\n",
       "      <td>#abuja #jabilakemall #obidatti2023</td>\n",
       "    </tr>\n",
       "    <tr>\n",
       "      <th>2</th>\n",
       "      <td>2</td>\n",
       "      <td>1585926765528031232</td>\n",
       "      <td>valmoor70490991</td>\n",
       "      <td>2022-10-28 09:29:40+00:00</td>\n",
       "      <td>Operation pick your PVC \\n\\nI am at the IFO IN...</td>\n",
       "      <td>NaN</td>\n",
       "      <td>0</td>\n",
       "      <td>0</td>\n",
       "      <td>70</td>\n",
       "      <td>218</td>\n",
       "      <td>False</td>\n",
       "      <td>Twitter for Android</td>\n",
       "      <td>#obidientlyyusful #obidatti2023</td>\n",
       "    </tr>\n",
       "    <tr>\n",
       "      <th>3</th>\n",
       "      <td>3</td>\n",
       "      <td>1585925340014190592</td>\n",
       "      <td>JaypeeGeneral</td>\n",
       "      <td>2022-10-28 09:24:00+00:00</td>\n",
       "      <td>Kenneth Okonkwo is just too good abeg🔥🔥🔥 He wa...</td>\n",
       "      <td>NaN</td>\n",
       "      <td>6</td>\n",
       "      <td>9</td>\n",
       "      <td>8232</td>\n",
       "      <td>3399</td>\n",
       "      <td>False</td>\n",
       "      <td>Twitter for iPhone</td>\n",
       "      <td>#obidatti023 #obidatti2023</td>\n",
       "    </tr>\n",
       "    <tr>\n",
       "      <th>4</th>\n",
       "      <td>4</td>\n",
       "      <td>1585925140063346689</td>\n",
       "      <td>DesmondJameso2</td>\n",
       "      <td>2022-10-28 09:23:13+00:00</td>\n",
       "      <td>A country where graduates are turned into comm...</td>\n",
       "      <td>Nigeria</td>\n",
       "      <td>0</td>\n",
       "      <td>0</td>\n",
       "      <td>474</td>\n",
       "      <td>4906</td>\n",
       "      <td>False</td>\n",
       "      <td>Twitter for Android</td>\n",
       "      <td>#votewisely #obidatti2023 #abujatwittercommunity</td>\n",
       "    </tr>\n",
       "  </tbody>\n",
       "</table>\n",
       "</div>"
      ],
      "text/plain": [
       "   Unnamed: 0                   id         username  \\\n",
       "0           0  1585927762170109952     AKD205036451   \n",
       "1           1  1585927310082916352  AellayMedaiyese   \n",
       "2           2  1585926765528031232  valmoor70490991   \n",
       "3           3  1585925340014190592    JaypeeGeneral   \n",
       "4           4  1585925140063346689   DesmondJameso2   \n",
       "\n",
       "               time_of_tweet  \\\n",
       "0  2022-10-28 09:33:38+00:00   \n",
       "1  2022-10-28 09:31:50+00:00   \n",
       "2  2022-10-28 09:29:40+00:00   \n",
       "3  2022-10-28 09:24:00+00:00   \n",
       "4  2022-10-28 09:23:13+00:00   \n",
       "\n",
       "                                               tweet  \\\n",
       "0  from:AKD205036451 As at today, I humbly advise...   \n",
       "1  I called, you giving me attitude saying you ga...   \n",
       "2  Operation pick your PVC \\n\\nI am at the IFO IN...   \n",
       "3  Kenneth Okonkwo is just too good abeg🔥🔥🔥 He wa...   \n",
       "4  A country where graduates are turned into comm...   \n",
       "\n",
       "                    location  retweets  likes  followers  following  verified  \\\n",
       "0                        NaN         0      0         16         92     False   \n",
       "1  Federal Capital Territory         0      0       6378        372     False   \n",
       "2                        NaN         0      0         70        218     False   \n",
       "3                        NaN         6      9       8232       3399     False   \n",
       "4                    Nigeria         0      0        474       4906     False   \n",
       "\n",
       "          tweet_source                                          hashtags  \n",
       "0   Twitter for iPhone                                                    \n",
       "1   Twitter for iPhone                #abuja #jabilakemall #obidatti2023  \n",
       "2  Twitter for Android                   #obidientlyyusful #obidatti2023  \n",
       "3   Twitter for iPhone                        #obidatti023 #obidatti2023  \n",
       "4  Twitter for Android  #votewisely #obidatti2023 #abujatwittercommunity  "
      ]
     },
     "execution_count": 6,
     "metadata": {},
     "output_type": "execute_result"
    }
   ],
   "source": [
    "obi_df['hashtags']=obi_df['tweet'].apply(getHashtags)\n",
    "obi_df.head()"
   ]
  },
  {
   "cell_type": "code",
   "execution_count": 7,
   "id": "20e51f64",
   "metadata": {},
   "outputs": [
    {
     "name": "stdout",
     "output_type": "stream",
     "text": [
      "The Total Number of Unique Hashtags is:  1667\n"
     ]
    }
   ],
   "source": [
    "# Store hashtags in a list\n",
    "hashtags_list=obi_df['hashtags'].tolist()\n",
    "\n",
    "# Iterate over all hashtags and split where there is more than one hashtag per row of data\n",
    "hashtags = []\n",
    "for item in hashtags_list:\n",
    "    item = item.split()\n",
    "    for i in item:\n",
    "        hashtags.append(i)\n",
    "\n",
    "# Importing Collection module to determine unique count of all hashtags used\n",
    "from collections import Counter\n",
    "\n",
    "# Determine Unique count of all hashtags used\n",
    "counts=Counter(hashtags)\n",
    "hashtags_df=pd.DataFrame.from_dict(counts, orient='index').reset_index()\n",
    "hashtags_df.columns=['hashtags', 'count']\n",
    "hashtags_df.sort_values(by='count', ascending=False, inplace=True)\n",
    "print(\"The Total Number of Unique Hashtags is: \", hashtags_df.shape[0])"
   ]
  },
  {
   "cell_type": "code",
   "execution_count": 8,
   "id": "c741b620",
   "metadata": {
    "collapsed": true
   },
   "outputs": [
    {
     "data": {
      "text/html": [
       "<div>\n",
       "<style scoped>\n",
       "    .dataframe tbody tr th:only-of-type {\n",
       "        vertical-align: middle;\n",
       "    }\n",
       "\n",
       "    .dataframe tbody tr th {\n",
       "        vertical-align: top;\n",
       "    }\n",
       "\n",
       "    .dataframe thead th {\n",
       "        text-align: right;\n",
       "    }\n",
       "</style>\n",
       "<table border=\"1\" class=\"dataframe\">\n",
       "  <thead>\n",
       "    <tr style=\"text-align: right;\">\n",
       "      <th></th>\n",
       "      <th>hashtags</th>\n",
       "      <th>count</th>\n",
       "    </tr>\n",
       "  </thead>\n",
       "  <tbody>\n",
       "    <tr>\n",
       "      <th>2</th>\n",
       "      <td>#obidatti2023</td>\n",
       "      <td>2392</td>\n",
       "    </tr>\n",
       "    <tr>\n",
       "      <th>10</th>\n",
       "      <td>#obidients</td>\n",
       "      <td>1910</td>\n",
       "    </tr>\n",
       "    <tr>\n",
       "      <th>9</th>\n",
       "      <td>#obidient</td>\n",
       "      <td>871</td>\n",
       "    </tr>\n",
       "    <tr>\n",
       "      <th>11</th>\n",
       "      <td>#peterobi4president2023</td>\n",
       "      <td>430</td>\n",
       "    </tr>\n",
       "    <tr>\n",
       "      <th>3</th>\n",
       "      <td>#obidientlyyusful</td>\n",
       "      <td>416</td>\n",
       "    </tr>\n",
       "    <tr>\n",
       "      <th>4</th>\n",
       "      <td>#obidatti023</td>\n",
       "      <td>363</td>\n",
       "    </tr>\n",
       "    <tr>\n",
       "      <th>16</th>\n",
       "      <td>#endsars</td>\n",
       "      <td>344</td>\n",
       "    </tr>\n",
       "    <tr>\n",
       "      <th>23</th>\n",
       "      <td>#peterobiforpresident2023</td>\n",
       "      <td>201</td>\n",
       "    </tr>\n",
       "    <tr>\n",
       "      <th>70</th>\n",
       "      <td>#peterobi</td>\n",
       "      <td>192</td>\n",
       "    </tr>\n",
       "    <tr>\n",
       "      <th>24</th>\n",
       "      <td>#nigeria</td>\n",
       "      <td>175</td>\n",
       "    </tr>\n",
       "  </tbody>\n",
       "</table>\n",
       "</div>"
      ],
      "text/plain": [
       "                     hashtags  count\n",
       "2               #obidatti2023   2392\n",
       "10                 #obidients   1910\n",
       "9                   #obidient    871\n",
       "11    #peterobi4president2023    430\n",
       "3           #obidientlyyusful    416\n",
       "4                #obidatti023    363\n",
       "16                   #endsars    344\n",
       "23  #peterobiforpresident2023    201\n",
       "70                  #peterobi    192\n",
       "24                   #nigeria    175"
      ]
     },
     "execution_count": 8,
     "metadata": {},
     "output_type": "execute_result"
    }
   ],
   "source": [
    "# Checking the hashtag dataframe for the top 10 hashtags used\n",
    "hashtags_df.head(10)"
   ]
  },
  {
   "cell_type": "code",
   "execution_count": 24,
   "id": "fe70d66d",
   "metadata": {},
   "outputs": [
    {
     "data": {
      "text/html": [
       "<div>\n",
       "<style scoped>\n",
       "    .dataframe tbody tr th:only-of-type {\n",
       "        vertical-align: middle;\n",
       "    }\n",
       "\n",
       "    .dataframe tbody tr th {\n",
       "        vertical-align: top;\n",
       "    }\n",
       "\n",
       "    .dataframe thead th {\n",
       "        text-align: right;\n",
       "    }\n",
       "</style>\n",
       "<table border=\"1\" class=\"dataframe\">\n",
       "  <thead>\n",
       "    <tr style=\"text-align: right;\">\n",
       "      <th></th>\n",
       "      <th>Unnamed: 0</th>\n",
       "      <th>id</th>\n",
       "      <th>username</th>\n",
       "      <th>time_of_tweet</th>\n",
       "      <th>tweet</th>\n",
       "      <th>location</th>\n",
       "      <th>retweets</th>\n",
       "      <th>likes</th>\n",
       "      <th>followers</th>\n",
       "      <th>following</th>\n",
       "      <th>verified</th>\n",
       "      <th>tweet_source</th>\n",
       "      <th>hashtags</th>\n",
       "      <th>Processed_Tweets</th>\n",
       "    </tr>\n",
       "  </thead>\n",
       "  <tbody>\n",
       "    <tr>\n",
       "      <th>0</th>\n",
       "      <td>0</td>\n",
       "      <td>1585927762170109952</td>\n",
       "      <td>AKD205036451</td>\n",
       "      <td>2022-10-28 09:33:38+00:00</td>\n",
       "      <td>from:AKD205036451 As at today, I humbly advise...</td>\n",
       "      <td>NaN</td>\n",
       "      <td>0</td>\n",
       "      <td>0</td>\n",
       "      <td>16</td>\n",
       "      <td>92</td>\n",
       "      <td>False</td>\n",
       "      <td>Twitter for iPhone</td>\n",
       "      <td></td>\n",
       "      <td>akd today humbly advise apc supporter give vot...</td>\n",
       "    </tr>\n",
       "    <tr>\n",
       "      <th>1</th>\n",
       "      <td>1</td>\n",
       "      <td>1585927310082916352</td>\n",
       "      <td>AellayMedaiyese</td>\n",
       "      <td>2022-10-28 09:31:50+00:00</td>\n",
       "      <td>I called, you giving me attitude saying you ga...</td>\n",
       "      <td>Federal Capital Territory</td>\n",
       "      <td>0</td>\n",
       "      <td>0</td>\n",
       "      <td>6378</td>\n",
       "      <td>372</td>\n",
       "      <td>False</td>\n",
       "      <td>Twitter for iPhone</td>\n",
       "      <td>#abuja #jabilakemall #obidatti2023</td>\n",
       "      <td>called giving attitude saying gat mood swing m...</td>\n",
       "    </tr>\n",
       "    <tr>\n",
       "      <th>2</th>\n",
       "      <td>2</td>\n",
       "      <td>1585926765528031232</td>\n",
       "      <td>valmoor70490991</td>\n",
       "      <td>2022-10-28 09:29:40+00:00</td>\n",
       "      <td>Operation pick your PVC \\n\\nI am at the IFO IN...</td>\n",
       "      <td>NaN</td>\n",
       "      <td>0</td>\n",
       "      <td>0</td>\n",
       "      <td>70</td>\n",
       "      <td>218</td>\n",
       "      <td>False</td>\n",
       "      <td>Twitter for Android</td>\n",
       "      <td>#obidientlyyusful #obidatti2023</td>\n",
       "      <td>operation pick pvc ifo inec office pick pvc ol...</td>\n",
       "    </tr>\n",
       "    <tr>\n",
       "      <th>3</th>\n",
       "      <td>3</td>\n",
       "      <td>1585925340014190592</td>\n",
       "      <td>JaypeeGeneral</td>\n",
       "      <td>2022-10-28 09:24:00+00:00</td>\n",
       "      <td>Kenneth Okonkwo is just too good abeg🔥🔥🔥 He wa...</td>\n",
       "      <td>NaN</td>\n",
       "      <td>6</td>\n",
       "      <td>9</td>\n",
       "      <td>8232</td>\n",
       "      <td>3399</td>\n",
       "      <td>False</td>\n",
       "      <td>Twitter for iPhone</td>\n",
       "      <td>#obidatti023 #obidatti2023</td>\n",
       "      <td>kenneth okonkwo good abeg🔥🔥🔥 channel tv yester...</td>\n",
       "    </tr>\n",
       "    <tr>\n",
       "      <th>4</th>\n",
       "      <td>4</td>\n",
       "      <td>1585925140063346689</td>\n",
       "      <td>DesmondJameso2</td>\n",
       "      <td>2022-10-28 09:23:13+00:00</td>\n",
       "      <td>A country where graduates are turned into comm...</td>\n",
       "      <td>Nigeria</td>\n",
       "      <td>0</td>\n",
       "      <td>0</td>\n",
       "      <td>474</td>\n",
       "      <td>4906</td>\n",
       "      <td>False</td>\n",
       "      <td>Twitter for Android</td>\n",
       "      <td>#votewisely #obidatti2023 #abujatwittercommunity</td>\n",
       "      <td>country graduate turned common beggar yet grad...</td>\n",
       "    </tr>\n",
       "  </tbody>\n",
       "</table>\n",
       "</div>"
      ],
      "text/plain": [
       "   Unnamed: 0                   id         username  \\\n",
       "0           0  1585927762170109952     AKD205036451   \n",
       "1           1  1585927310082916352  AellayMedaiyese   \n",
       "2           2  1585926765528031232  valmoor70490991   \n",
       "3           3  1585925340014190592    JaypeeGeneral   \n",
       "4           4  1585925140063346689   DesmondJameso2   \n",
       "\n",
       "               time_of_tweet  \\\n",
       "0  2022-10-28 09:33:38+00:00   \n",
       "1  2022-10-28 09:31:50+00:00   \n",
       "2  2022-10-28 09:29:40+00:00   \n",
       "3  2022-10-28 09:24:00+00:00   \n",
       "4  2022-10-28 09:23:13+00:00   \n",
       "\n",
       "                                               tweet  \\\n",
       "0  from:AKD205036451 As at today, I humbly advise...   \n",
       "1  I called, you giving me attitude saying you ga...   \n",
       "2  Operation pick your PVC \\n\\nI am at the IFO IN...   \n",
       "3  Kenneth Okonkwo is just too good abeg🔥🔥🔥 He wa...   \n",
       "4  A country where graduates are turned into comm...   \n",
       "\n",
       "                    location  retweets  likes  followers  following  verified  \\\n",
       "0                        NaN         0      0         16         92     False   \n",
       "1  Federal Capital Territory         0      0       6378        372     False   \n",
       "2                        NaN         0      0         70        218     False   \n",
       "3                        NaN         6      9       8232       3399     False   \n",
       "4                    Nigeria         0      0        474       4906     False   \n",
       "\n",
       "          tweet_source                                          hashtags  \\\n",
       "0   Twitter for iPhone                                                     \n",
       "1   Twitter for iPhone                #abuja #jabilakemall #obidatti2023   \n",
       "2  Twitter for Android                   #obidientlyyusful #obidatti2023   \n",
       "3   Twitter for iPhone                        #obidatti023 #obidatti2023   \n",
       "4  Twitter for Android  #votewisely #obidatti2023 #abujatwittercommunity   \n",
       "\n",
       "                                    Processed_Tweets  \n",
       "0  akd today humbly advise apc supporter give vot...  \n",
       "1  called giving attitude saying gat mood swing m...  \n",
       "2  operation pick pvc ifo inec office pick pvc ol...  \n",
       "3  kenneth okonkwo good abeg🔥🔥🔥 channel tv yester...  \n",
       "4  country graduate turned common beggar yet grad...  "
      ]
     },
     "execution_count": 24,
     "metadata": {},
     "output_type": "execute_result"
    }
   ],
   "source": [
    "# Generate a new column called 'Processed Tweets' by applying preprocessed tweets function to the 'Tweet' column.\n",
    "obi_df['Processed_Tweets'] = obi_df['tweet'].apply(preprocessTweets)\n",
    "obi_df.head()"
   ]
  },
  {
   "cell_type": "markdown",
   "id": "edb327c1",
   "metadata": {},
   "source": [
    "### Sentiment Analysis"
   ]
  },
  {
   "cell_type": "code",
   "execution_count": 25,
   "id": "2fbf2128",
   "metadata": {},
   "outputs": [],
   "source": [
    "# Apply the polarity and sentiment functions to respective columns\n",
    "obi_df['Polarity']=obi_df['Processed_Tweets'].apply(getPolarity)\n",
    "obi_df['Sentiment']=obi_df['Polarity'].apply(getSentimentTextBlob)"
   ]
  },
  {
   "cell_type": "code",
   "execution_count": 26,
   "id": "80188bc0",
   "metadata": {
    "collapsed": true
   },
   "outputs": [
    {
     "data": {
      "text/html": [
       "<div>\n",
       "<style scoped>\n",
       "    .dataframe tbody tr th:only-of-type {\n",
       "        vertical-align: middle;\n",
       "    }\n",
       "\n",
       "    .dataframe tbody tr th {\n",
       "        vertical-align: top;\n",
       "    }\n",
       "\n",
       "    .dataframe thead th {\n",
       "        text-align: right;\n",
       "    }\n",
       "</style>\n",
       "<table border=\"1\" class=\"dataframe\">\n",
       "  <thead>\n",
       "    <tr style=\"text-align: right;\">\n",
       "      <th></th>\n",
       "      <th>Unnamed: 0</th>\n",
       "      <th>id</th>\n",
       "      <th>username</th>\n",
       "      <th>time_of_tweet</th>\n",
       "      <th>tweet</th>\n",
       "      <th>location</th>\n",
       "      <th>retweets</th>\n",
       "      <th>likes</th>\n",
       "      <th>followers</th>\n",
       "      <th>following</th>\n",
       "      <th>verified</th>\n",
       "      <th>tweet_source</th>\n",
       "      <th>hashtags</th>\n",
       "      <th>Processed_Tweets</th>\n",
       "      <th>Polarity</th>\n",
       "      <th>Sentiment</th>\n",
       "    </tr>\n",
       "  </thead>\n",
       "  <tbody>\n",
       "    <tr>\n",
       "      <th>0</th>\n",
       "      <td>0</td>\n",
       "      <td>1585927762170109952</td>\n",
       "      <td>AKD205036451</td>\n",
       "      <td>2022-10-28 09:33:38+00:00</td>\n",
       "      <td>from:AKD205036451 As at today, I humbly advise...</td>\n",
       "      <td>NaN</td>\n",
       "      <td>0</td>\n",
       "      <td>0</td>\n",
       "      <td>16</td>\n",
       "      <td>92</td>\n",
       "      <td>False</td>\n",
       "      <td>Twitter for iPhone</td>\n",
       "      <td></td>\n",
       "      <td>akd today humbly advise apc supporter give vot...</td>\n",
       "      <td>-0.200000</td>\n",
       "      <td>Negative</td>\n",
       "    </tr>\n",
       "    <tr>\n",
       "      <th>1</th>\n",
       "      <td>1</td>\n",
       "      <td>1585927310082916352</td>\n",
       "      <td>AellayMedaiyese</td>\n",
       "      <td>2022-10-28 09:31:50+00:00</td>\n",
       "      <td>I called, you giving me attitude saying you ga...</td>\n",
       "      <td>Federal Capital Territory</td>\n",
       "      <td>0</td>\n",
       "      <td>0</td>\n",
       "      <td>6378</td>\n",
       "      <td>372</td>\n",
       "      <td>False</td>\n",
       "      <td>Twitter for iPhone</td>\n",
       "      <td>#abuja #jabilakemall #obidatti2023</td>\n",
       "      <td>called giving attitude saying gat mood swing m...</td>\n",
       "      <td>0.000000</td>\n",
       "      <td>Positive</td>\n",
       "    </tr>\n",
       "    <tr>\n",
       "      <th>2</th>\n",
       "      <td>2</td>\n",
       "      <td>1585926765528031232</td>\n",
       "      <td>valmoor70490991</td>\n",
       "      <td>2022-10-28 09:29:40+00:00</td>\n",
       "      <td>Operation pick your PVC \\n\\nI am at the IFO IN...</td>\n",
       "      <td>NaN</td>\n",
       "      <td>0</td>\n",
       "      <td>0</td>\n",
       "      <td>70</td>\n",
       "      <td>218</td>\n",
       "      <td>False</td>\n",
       "      <td>Twitter for Android</td>\n",
       "      <td>#obidientlyyusful #obidatti2023</td>\n",
       "      <td>operation pick pvc ifo inec office pick pvc ol...</td>\n",
       "      <td>0.300000</td>\n",
       "      <td>Positive</td>\n",
       "    </tr>\n",
       "    <tr>\n",
       "      <th>3</th>\n",
       "      <td>3</td>\n",
       "      <td>1585925340014190592</td>\n",
       "      <td>JaypeeGeneral</td>\n",
       "      <td>2022-10-28 09:24:00+00:00</td>\n",
       "      <td>Kenneth Okonkwo is just too good abeg🔥🔥🔥 He wa...</td>\n",
       "      <td>NaN</td>\n",
       "      <td>6</td>\n",
       "      <td>9</td>\n",
       "      <td>8232</td>\n",
       "      <td>3399</td>\n",
       "      <td>False</td>\n",
       "      <td>Twitter for iPhone</td>\n",
       "      <td>#obidatti023 #obidatti2023</td>\n",
       "      <td>kenneth okonkwo good abeg🔥🔥🔥 channel tv yester...</td>\n",
       "      <td>0.350000</td>\n",
       "      <td>Positive</td>\n",
       "    </tr>\n",
       "    <tr>\n",
       "      <th>4</th>\n",
       "      <td>4</td>\n",
       "      <td>1585925140063346689</td>\n",
       "      <td>DesmondJameso2</td>\n",
       "      <td>2022-10-28 09:23:13+00:00</td>\n",
       "      <td>A country where graduates are turned into comm...</td>\n",
       "      <td>Nigeria</td>\n",
       "      <td>0</td>\n",
       "      <td>0</td>\n",
       "      <td>474</td>\n",
       "      <td>4906</td>\n",
       "      <td>False</td>\n",
       "      <td>Twitter for Android</td>\n",
       "      <td>#votewisely #obidatti2023 #abujatwittercommunity</td>\n",
       "      <td>country graduate turned common beggar yet grad...</td>\n",
       "      <td>0.216667</td>\n",
       "      <td>Positive</td>\n",
       "    </tr>\n",
       "  </tbody>\n",
       "</table>\n",
       "</div>"
      ],
      "text/plain": [
       "   Unnamed: 0                   id         username  \\\n",
       "0           0  1585927762170109952     AKD205036451   \n",
       "1           1  1585927310082916352  AellayMedaiyese   \n",
       "2           2  1585926765528031232  valmoor70490991   \n",
       "3           3  1585925340014190592    JaypeeGeneral   \n",
       "4           4  1585925140063346689   DesmondJameso2   \n",
       "\n",
       "               time_of_tweet  \\\n",
       "0  2022-10-28 09:33:38+00:00   \n",
       "1  2022-10-28 09:31:50+00:00   \n",
       "2  2022-10-28 09:29:40+00:00   \n",
       "3  2022-10-28 09:24:00+00:00   \n",
       "4  2022-10-28 09:23:13+00:00   \n",
       "\n",
       "                                               tweet  \\\n",
       "0  from:AKD205036451 As at today, I humbly advise...   \n",
       "1  I called, you giving me attitude saying you ga...   \n",
       "2  Operation pick your PVC \\n\\nI am at the IFO IN...   \n",
       "3  Kenneth Okonkwo is just too good abeg🔥🔥🔥 He wa...   \n",
       "4  A country where graduates are turned into comm...   \n",
       "\n",
       "                    location  retweets  likes  followers  following  verified  \\\n",
       "0                        NaN         0      0         16         92     False   \n",
       "1  Federal Capital Territory         0      0       6378        372     False   \n",
       "2                        NaN         0      0         70        218     False   \n",
       "3                        NaN         6      9       8232       3399     False   \n",
       "4                    Nigeria         0      0        474       4906     False   \n",
       "\n",
       "          tweet_source                                          hashtags  \\\n",
       "0   Twitter for iPhone                                                     \n",
       "1   Twitter for iPhone                #abuja #jabilakemall #obidatti2023   \n",
       "2  Twitter for Android                   #obidientlyyusful #obidatti2023   \n",
       "3   Twitter for iPhone                        #obidatti023 #obidatti2023   \n",
       "4  Twitter for Android  #votewisely #obidatti2023 #abujatwittercommunity   \n",
       "\n",
       "                                    Processed_Tweets  Polarity Sentiment  \n",
       "0  akd today humbly advise apc supporter give vot... -0.200000  Negative  \n",
       "1  called giving attitude saying gat mood swing m...  0.000000  Positive  \n",
       "2  operation pick pvc ifo inec office pick pvc ol...  0.300000  Positive  \n",
       "3  kenneth okonkwo good abeg🔥🔥🔥 channel tv yester...  0.350000  Positive  \n",
       "4  country graduate turned common beggar yet grad...  0.216667  Positive  "
      ]
     },
     "execution_count": 26,
     "metadata": {},
     "output_type": "execute_result"
    }
   ],
   "source": [
    "obi_df.head()"
   ]
  },
  {
   "cell_type": "code",
   "execution_count": 27,
   "id": "e30eeacb",
   "metadata": {
    "scrolled": true
   },
   "outputs": [
    {
     "data": {
      "text/plain": [
       "Positive    4012\n",
       "Negative     719\n",
       "Name: Sentiment, dtype: int64"
      ]
     },
     "execution_count": 27,
     "metadata": {},
     "output_type": "execute_result"
    }
   ],
   "source": [
    "obi_df['Sentiment'].value_counts()"
   ]
  },
  {
   "cell_type": "code",
   "execution_count": 29,
   "id": "00d53248",
   "metadata": {},
   "outputs": [],
   "source": [
    "data=obi_df['Sentiment'].value_counts()"
   ]
  },
  {
   "cell_type": "code",
   "execution_count": 30,
   "id": "908fbf3a",
   "metadata": {},
   "outputs": [
    {
     "data": {
      "image/png": "[encoded data removed]",
      "text/plain": [
       "<Figure size 1080x720 with 1 Axes>"
      ]
     },
     "metadata": {},
     "output_type": "display_data"
    }
   ],
   "source": [
    "# Plotting a pie chart to show distribution of Sentiments\n",
    "plt.figure(figsize=[15,10], facecolor='none')\n",
    "plt.pie(data, labels=['Positive', 'Negative'], colors=['#FEE715', '#666666'], startangle=90, explode= [0.05, 0.05], autopct='%1.1f%%');\n",
    "plt.title('Twitter Users Sentiments for Peter Obi');"
   ]
  },
  {
   "cell_type": "code",
   "execution_count": null,
   "id": "95c6a798",
   "metadata": {},
   "outputs": [],
   "source": []
  }
 ],
 "metadata": {
  "kernelspec": {
   "display_name": "Python 3 (ipykernel)",
   "language": "python",
   "name": "python3"
  },
  "language_info": {
   "codemirror_mode": {
    "name": "ipython",
    "version": 3
   },
   "file_extension": ".py",
   "mimetype": "text/x-python",
   "name": "python",
   "nbconvert_exporter": "python",
   "pygments_lexer": "ipython3",
   "version": "3.8.13"
  }
 },
 "nbformat": 4,
 "nbformat_minor": 5
}
